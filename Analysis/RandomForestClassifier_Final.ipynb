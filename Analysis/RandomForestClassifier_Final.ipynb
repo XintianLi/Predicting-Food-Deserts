{
 "cells": [
  {
   "cell_type": "code",
   "execution_count": 26,
   "metadata": {},
   "outputs": [],
   "source": [
    "import pandas as pd\n",
    "import geopandas as gpd\n",
    "import numpy as np\n",
    "from sklearn.preprocessing import StandardScaler\n",
    "from sklearn.ensemble import RandomForestClassifier\n",
    "from sklearn.metrics import classification_report, confusion_matrix, accuracy_score\n",
    "from sklearn.model_selection import train_test_split\n",
    "from sklearn.pipeline import make_pipeline\n",
    "from sklearn.preprocessing import StandardScaler\n",
    "from sklearn.compose import ColumnTransformer\n",
    "from sklearn.preprocessing import OneHotEncoder\n",
    "from sklearn.model_selection import GridSearchCV"
   ]
  },
  {
   "cell_type": "code",
   "execution_count": 27,
   "metadata": {
    "scrolled": true
   },
   "outputs": [],
   "source": [
    "dat=gpd.read_file(\"./net_work_analysis/tracts_dist.geojson\")"
   ]
  },
  {
   "cell_type": "code",
   "execution_count": 28,
   "metadata": {},
   "outputs": [],
   "source": [
    "BQ=dat[dat.TOT_POP>0]\n",
    "cols=['MED_INC','prt_whi','prt_asi','prt_bla','prt_veh','pop_den','cnt','fast_food','market','convenience','supermarket','FoodDesertOrNot']\n",
    "model=BQ[cols]"
   ]
  },
  {
   "cell_type": "markdown",
   "metadata": {},
   "source": [
    "Use GridSearchCV to improve the parameter of the model"
   ]
  },
  {
   "cell_type": "code",
   "execution_count": 29,
   "metadata": {},
   "outputs": [],
   "source": [
    "from imblearn.over_sampling import SMOTE\n",
    "sm=SMOTE(random_state=27,ratio=1.0)\n",
    "y=model.FoodDesertOrNot\n",
    "x=model.drop(\"FoodDesertOrNot\",axis=1)\n",
    "x_train,x_test,y_train,y_test=train_test_split(x,y,test_size=0.3,random_state=42)\n",
    "x_train,y_train=sm.fit_sample(x_train,y_train)\n",
    "\n",
    "pipe1=make_pipeline(StandardScaler(),RandomForestClassifier(random_state=42))"
   ]
  },
  {
   "cell_type": "code",
   "execution_count": 30,
   "metadata": {},
   "outputs": [
    {
     "data": {
      "text/plain": [
       "{'randomforestclassifier__n_estimators': [5, 10, 15, 20, 30, 50, 100],\n",
       " 'randomforestclassifier__max_depth': [2, 5, 7, 9, 13, 21, 33, 51]}"
      ]
     },
     "execution_count": 30,
     "metadata": {},
     "output_type": "execute_result"
    }
   ],
   "source": [
    "# Make the grid of parameters to search\n",
    "# NOTE: you must prepend the name of the pipeline step\n",
    "model_name = \"randomforestclassifier\"\n",
    "param_grid = {\n",
    "    f\"{model_name}__n_estimators\": [5, 10, 15, 20, 30, 50, 100],\n",
    "    f\"{model_name}__max_depth\": [2, 5, 7, 9, 13, 21, 33, 51],\n",
    "}\n",
    "\n",
    "param_grid"
   ]
  },
  {
   "cell_type": "code",
   "execution_count": 31,
   "metadata": {
    "scrolled": false
   },
   "outputs": [
    {
     "data": {
      "text/plain": [
       "GridSearchCV(cv=10, error_score=nan,\n",
       "             estimator=Pipeline(memory=None,\n",
       "                                steps=[('standardscaler',\n",
       "                                        StandardScaler(copy=True,\n",
       "                                                       with_mean=True,\n",
       "                                                       with_std=True)),\n",
       "                                       ('randomforestclassifier',\n",
       "                                        RandomForestClassifier(bootstrap=True,\n",
       "                                                               ccp_alpha=0.0,\n",
       "                                                               class_weight=None,\n",
       "                                                               criterion='gini',\n",
       "                                                               max_depth=None,\n",
       "                                                               max_features='auto',\n",
       "                                                               max_leaf_nodes=None,\n",
       "                                                               max_samples=None,\n",
       "                                                               min_impurity_decre...\n",
       "                                                               n_estimators=100,\n",
       "                                                               n_jobs=None,\n",
       "                                                               oob_score=False,\n",
       "                                                               random_state=42,\n",
       "                                                               verbose=0,\n",
       "                                                               warm_start=False))],\n",
       "                                verbose=False),\n",
       "             iid='deprecated', n_jobs=None,\n",
       "             param_grid={'randomforestclassifier__max_depth': [2, 5, 7, 9, 13,\n",
       "                                                               21, 33, 51],\n",
       "                         'randomforestclassifier__n_estimators': [5, 10, 15, 20,\n",
       "                                                                  30, 50,\n",
       "                                                                  100]},\n",
       "             pre_dispatch='2*n_jobs', refit=True, return_train_score=False,\n",
       "             scoring=None, verbose=0)"
      ]
     },
     "execution_count": 31,
     "metadata": {},
     "output_type": "execute_result"
    }
   ],
   "source": [
    "grid=GridSearchCV(pipe1,param_grid,cv=10)\n",
    "grid.fit(x_train,y_train)"
   ]
  },
  {
   "cell_type": "code",
   "execution_count": 33,
   "metadata": {
    "scrolled": true
   },
   "outputs": [
    {
     "data": {
      "text/plain": [
       "{'randomforestclassifier__max_depth': 21,\n",
       " 'randomforestclassifier__n_estimators': 50}"
      ]
     },
     "execution_count": 33,
     "metadata": {},
     "output_type": "execute_result"
    }
   ],
   "source": [
    "grid.best_params_"
   ]
  },
  {
   "cell_type": "markdown",
   "metadata": {},
   "source": [
    "1. RandomForestClassifier with class_weight= 'balanced'"
   ]
  },
  {
   "cell_type": "code",
   "execution_count": 38,
   "metadata": {},
   "outputs": [
    {
     "name": "stdout",
     "output_type": "stream",
     "text": [
      "              precision    recall  f1-score   support\n",
      "\n",
      "           0       0.99      0.92      0.96       411\n",
      "           1       0.16      0.67      0.26         9\n",
      "\n",
      "    accuracy                           0.92       420\n",
      "   macro avg       0.58      0.79      0.61       420\n",
      "weighted avg       0.97      0.92      0.94       420\n",
      "\n"
     ]
    }
   ],
   "source": [
    "#make pipe lines\n",
    "from sklearn.pipeline import make_pipeline\n",
    "\n",
    "y=model.FoodDesertOrNot\n",
    "x=model.drop(\"FoodDesertOrNot\",axis=1)\n",
    "x_train,x_test,y_train,y_test=train_test_split(x,y,test_size=0.3,random_state=42)\n",
    "\n",
    "pipe=make_pipeline(StandardScaler(),RandomForestClassifier(n_estimators=100,random_state=42,class_weight='balanced'))\n",
    "pipe.fit(x_train,y_train)\n",
    "\n",
    "y_pred=pipe.predict(x_test)\n",
    "\n",
    "print(classification_report(y_pred,y_test))"
   ]
  },
  {
   "cell_type": "code",
   "execution_count": 39,
   "metadata": {},
   "outputs": [
    {
     "data": {
      "text/plain": [
       "array([[379,   3],\n",
       "       [ 32,   6]], dtype=int64)"
      ]
     },
     "execution_count": 39,
     "metadata": {},
     "output_type": "execute_result"
    }
   ],
   "source": [
    "confusion_matrix(y_test, y_pred)"
   ]
  },
  {
   "cell_type": "markdown",
   "metadata": {},
   "source": [
    "2. Generate synthetic samples and use Random Forest"
   ]
  },
  {
   "cell_type": "code",
   "execution_count": 35,
   "metadata": {},
   "outputs": [
    {
     "name": "stdout",
     "output_type": "stream",
     "text": [
      "              precision    recall  f1-score   support\n",
      "\n",
      "           0       0.95      0.95      0.95       382\n",
      "           1       0.50      0.50      0.50        38\n",
      "\n",
      "    accuracy                           0.91       420\n",
      "   macro avg       0.73      0.73      0.73       420\n",
      "weighted avg       0.91      0.91      0.91       420\n",
      "\n"
     ]
    }
   ],
   "source": [
    "from imblearn.over_sampling import SMOTE\n",
    "sm=SMOTE(random_state=27,ratio=1.0)\n",
    "y=model.FoodDesertOrNot\n",
    "x=model.drop(\"FoodDesertOrNot\",axis=1)\n",
    "x_train,x_test,y_train,y_test=train_test_split(x,y,test_size=0.3,random_state=42)\n",
    "x_train,y_train=sm.fit_sample(x_train,y_train)\n",
    "\n",
    "\n",
    "pipe1=make_pipeline(StandardScaler(),RandomForestClassifier(n_estimators=50,max_depth=21,random_state=42))\n",
    "pipe1.fit(x_train,y_train)\n",
    "\n",
    "y_pred=pipe1.predict(x_test)\n",
    "\n",
    "print(classification_report(y_pred,y_test))"
   ]
  },
  {
   "cell_type": "code",
   "execution_count": 36,
   "metadata": {},
   "outputs": [],
   "source": [
    "from sklearn.metrics import confusion_matrix"
   ]
  },
  {
   "cell_type": "code",
   "execution_count": 37,
   "metadata": {},
   "outputs": [
    {
     "data": {
      "text/plain": [
       "array([[363,  19],\n",
       "       [ 19,  19]], dtype=int64)"
      ]
     },
     "execution_count": 37,
     "metadata": {},
     "output_type": "execute_result"
    }
   ],
   "source": [
    "confusion_matrix(y_test, y_pred)"
   ]
  }
 ],
 "metadata": {
  "kernelspec": {
   "display_name": "Python 3",
   "language": "python",
   "name": "python3"
  },
  "language_info": {
   "codemirror_mode": {
    "name": "ipython",
    "version": 3
   },
   "file_extension": ".py",
   "mimetype": "text/x-python",
   "name": "python",
   "nbconvert_exporter": "python",
   "pygments_lexer": "ipython3",
   "version": "3.6.9"
  }
 },
 "nbformat": 4,
 "nbformat_minor": 2
}
