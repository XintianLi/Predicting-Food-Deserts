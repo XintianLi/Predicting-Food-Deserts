{
 "cells": [
  {
   "cell_type": "code",
   "execution_count": 46,
   "metadata": {},
   "outputs": [
    {
     "name": "stderr",
     "output_type": "stream",
     "text": [
      "[nltk_data] Downloading package stopwords to\n",
      "[nltk_data]     C:\\Users\\Sarah\\AppData\\Roaming\\nltk_data...\n",
      "[nltk_data]   Package stopwords is already up-to-date!\n"
     ]
    },
    {
     "data": {
      "text/plain": [
       "RendererRegistry.enable('notebook')"
      ]
     },
     "execution_count": 46,
     "metadata": {},
     "output_type": "execute_result"
    }
   ],
   "source": [
    "import cartopy.crs as ccrs\n",
    "from mpl_toolkits.axes_grid1 import make_axes_locatable\n",
    "import tweepy as tw\n",
    "import geopandas as gpd\n",
    "import pandas as pd\n",
    "from time import sleep\n",
    "import us \n",
    "import hvplot.pandas\n",
    "import numpy as np\n",
    "import datetime\n",
    "from matplotlib import pyplot as plt\n",
    "%matplotlib inline\n",
    "from shapely.geometry import Point\n",
    "import requests\n",
    "from bs4 import BeautifulSoup\n",
    "import textblob\n",
    "import seaborn as sns\n",
    "import nltk\n",
    "nltk.download('stopwords');\n",
    "import string\n",
    "import altair as alt\n",
    "from altair import *\n",
    "alt.renderers.enable('notebook')"
   ]
  },
  {
   "cell_type": "markdown",
   "metadata": {},
   "source": [
    "### Web Scraping for List of Foods"
   ]
  },
  {
   "cell_type": "code",
   "execution_count": 47,
   "metadata": {
    "scrolled": true
   },
   "outputs": [
    {
     "data": {
      "text/plain": [
       "['Acerola – West Indian Cherry',\n",
       " 'Apple',\n",
       " 'Apricots',\n",
       " 'Avocado',\n",
       " 'Banana',\n",
       " 'Blackberries',\n",
       " 'Blackcurrant',\n",
       " 'Blueberries',\n",
       " 'Breadfruit',\n",
       " 'Cantaloupe',\n",
       " 'Carambola',\n",
       " 'Cherimoya',\n",
       " 'Cherries',\n",
       " 'Clementine',\n",
       " 'Coconut Meat',\n",
       " 'Cranberries',\n",
       " 'Custard-Apple',\n",
       " 'Date Fruit',\n",
       " 'Durian',\n",
       " 'Elderberries',\n",
       " 'Feijoa',\n",
       " 'Figs',\n",
       " 'Gooseberries',\n",
       " 'Grapefruit',\n",
       " 'Grapes',\n",
       " 'Guava',\n",
       " 'Honeydew Melon',\n",
       " 'Jackfruit',\n",
       " 'Java-Plum',\n",
       " 'Jujube Fruit',\n",
       " 'Kiwifruit',\n",
       " 'Kumquat',\n",
       " 'Lemon',\n",
       " 'Lime',\n",
       " 'Longan',\n",
       " 'Loquat',\n",
       " 'Lychee',\n",
       " 'Mandarin',\n",
       " 'Mango',\n",
       " 'Mangosteen',\n",
       " 'Mulberries',\n",
       " 'Nectarine',\n",
       " 'Olives',\n",
       " 'Orange',\n",
       " 'Papaya',\n",
       " 'Passion Fruit',\n",
       " 'Peaches',\n",
       " 'Pear',\n",
       " 'Persimmon – Japanese',\n",
       " 'Pitaya (Dragonfruit)',\n",
       " 'Pineapple',\n",
       " 'Pitanga',\n",
       " 'Plantain',\n",
       " 'Plums',\n",
       " 'Pomegranate',\n",
       " 'Prickly Pear',\n",
       " 'Prunes',\n",
       " 'Pummelo',\n",
       " 'Quince',\n",
       " 'Raspberries',\n",
       " 'Rhubarb',\n",
       " 'Rose-Apple',\n",
       " 'Sapodilla',\n",
       " 'Sapote, Mamey',\n",
       " 'Soursop',\n",
       " 'Strawberries',\n",
       " 'Sugar-Apple',\n",
       " 'Tamarind',\n",
       " 'Tangerine',\n",
       " 'Watermelon',\n",
       " 'Amaranth Leaves',\n",
       " 'Arrowroot',\n",
       " 'Artichoke',\n",
       " 'Arugula',\n",
       " 'Asparagus',\n",
       " 'Bamboo Shoots',\n",
       " 'Beans, Green',\n",
       " 'Beets',\n",
       " 'Belgian Endive',\n",
       " 'Bitter Melon',\n",
       " 'Bok Choy',\n",
       " 'Broadbeans (Fava Beans)',\n",
       " 'Broccoli',\n",
       " 'Broccoli Rabe',\n",
       " 'Brussel Sprouts',\n",
       " 'Cabbage, Green',\n",
       " 'Cabbage, Red',\n",
       " 'Carrot',\n",
       " 'Cassava (Yuca Root)',\n",
       " 'Cauliflower',\n",
       " 'Celeriac (Celery Root)',\n",
       " 'Celery',\n",
       " 'Chayote',\n",
       " 'Chicory (Curly Endive)',\n",
       " 'Collards',\n",
       " 'Corn',\n",
       " 'Crookneck',\n",
       " 'Cucumber',\n",
       " 'Daikon',\n",
       " 'Dandelion Greens',\n",
       " 'Edamame, Soybeans',\n",
       " 'Eggplant',\n",
       " 'Fennel',\n",
       " 'Fiddleheads',\n",
       " 'Ginger Root',\n",
       " 'Horseradish',\n",
       " 'Jicama',\n",
       " 'Kale',\n",
       " 'Kohlrabi',\n",
       " 'Leeks',\n",
       " 'Lettuce, Iceberg',\n",
       " 'Lettuce, Leaf',\n",
       " 'Lettuce, Romaine',\n",
       " 'Mushrooms',\n",
       " 'Mustard Greens',\n",
       " 'Okra',\n",
       " 'Onion (Red)',\n",
       " 'Onions',\n",
       " 'Parsnip',\n",
       " 'Peas, Green',\n",
       " 'Pepper, Green',\n",
       " 'Pepper, Sweet Red',\n",
       " 'Potato, Red',\n",
       " 'Potato, White',\n",
       " 'Potato, Yellow',\n",
       " 'Pumpkin',\n",
       " 'Radicchio',\n",
       " 'Radishes',\n",
       " 'Rutabaga',\n",
       " 'Salsify (Oysterplant)',\n",
       " 'Shallots',\n",
       " 'Snow Peas',\n",
       " 'Sorrel (Dock)',\n",
       " 'Spaghetti Squash',\n",
       " 'Spinach',\n",
       " 'Squash, Butternut',\n",
       " 'Sugar Snap Peas',\n",
       " 'Sweet Potato',\n",
       " 'Swiss Chard',\n",
       " 'Tomatillo',\n",
       " 'Tomato',\n",
       " 'Turnip',\n",
       " 'Watercress',\n",
       " 'Yam Root',\n",
       " 'Zucchini',\n",
       " 'FRUITS & VEGETABLES',\n",
       " 'Sun-Dried Tomatoes',\n",
       " 'Artichokes',\n",
       " 'Peas',\n",
       " 'Peppers',\n",
       " 'Carrots',\n",
       " 'Pickles',\n",
       " 'Potatoes',\n",
       " 'Sweet Potatoes',\n",
       " 'Spirulina',\n",
       " 'Sauerkraut',\n",
       " 'Black Sapote',\n",
       " 'Ruby Red Grapefruit',\n",
       " 'Tart Cherries',\n",
       " 'Berries',\n",
       " 'Açai Berries',\n",
       " 'Kiwi',\n",
       " 'Pink Lady Apples',\n",
       " 'Bananas',\n",
       " 'Pomegranates',\n",
       " 'Lemons',\n",
       " 'Oranges',\n",
       " 'TEAS',\n",
       " 'Green Tea',\n",
       " 'White Tea',\n",
       " 'Black Tea',\n",
       " 'Red Tea',\n",
       " 'Pu-erh Tea',\n",
       " 'Oolong Tea',\n",
       " 'Kombucha',\n",
       " 'RED MEAT & PORK',\n",
       " 'Grass-Fed Beef',\n",
       " 'Bison',\n",
       " 'Ostrich',\n",
       " 'Bone Broth',\n",
       " 'Pork',\n",
       " 'SEAFOOD',\n",
       " 'Halibut',\n",
       " 'Wild Salmon',\n",
       " 'Light Canned Tuna',\n",
       " 'Pacific Cod',\n",
       " 'Oysters',\n",
       " 'Canned Sardines In Oil',\n",
       " 'POULTRY & EGGS',\n",
       " 'Turkey',\n",
       " 'Chicken',\n",
       " 'Eggs',\n",
       " 'LEGUMES & NUTS',\n",
       " 'Beans',\n",
       " 'Soybean Products',\n",
       " 'Lentils',\n",
       " 'Peanut Butter',\n",
       " 'Hummus',\n",
       " 'GRAINS',\n",
       " 'Sprouted Whole Grain Bread',\n",
       " 'Teff',\n",
       " 'Triticale',\n",
       " 'Oats',\n",
       " 'Amaranth',\n",
       " 'Kamut',\n",
       " 'DAIRY',\n",
       " 'Gruyere Cheese',\n",
       " 'Parmesan Cheese',\n",
       " '2% Greek Yogurt',\n",
       " 'Kefir',\n",
       " '1% Organic, Grass-Fed Milk',\n",
       " 'NUTS & SEEDS',\n",
       " 'Chia Seeds',\n",
       " 'Flaxseed',\n",
       " 'Sesame Seeds',\n",
       " 'Mustard Seed',\n",
       " 'Shelled Pumpkin Seeds',\n",
       " 'Almonds',\n",
       " 'Pistachios',\n",
       " 'Walnuts',\n",
       " 'Brazil Nuts',\n",
       " 'Cashews',\n",
       " 'FATS',\n",
       " 'Coconut Oil',\n",
       " 'Peanut Oil',\n",
       " 'Avocado Oil',\n",
       " 'Macadamia Nut Oil',\n",
       " 'Extra Virgin Olive Oil',\n",
       " 'Walnut Oil',\n",
       " 'Canola Oil',\n",
       " 'Flaxseed Oil',\n",
       " 'SPICES',\n",
       " 'Cocoa',\n",
       " 'Cinnamon',\n",
       " 'Turmeric',\n",
       " 'Ginger',\n",
       " 'Garlic',\n",
       " 'Cilantro',\n",
       " 'Rosemary',\n",
       " 'Apple Cider Vinegar',\n",
       " 'Chili',\n",
       " 'beef',\n",
       " 'ham',\n",
       " 'lamb',\n",
       " 'pork',\n",
       " 'sausage (beef, turkey)',\n",
       " 'chicken',\n",
       " 'turkey',\n",
       " 'bison',\n",
       " 'rabbit',\n",
       " 'venison',\n",
       " 'giblets',\n",
       " 'liver',\n",
       " 'duck',\n",
       " 'goose',\n",
       " 'bean burgers',\n",
       " 'black beans',\n",
       " 'black-eyed peas',\n",
       " 'chickpeas (garbanzo beans)',\n",
       " 'edamame (young soybeans)',\n",
       " 'falafel (spiced, mashed chickpeas)',\n",
       " 'fava beans (broad beans)',\n",
       " 'hummus (chickpea spread)',\n",
       " 'kidney beans',\n",
       " 'lentils',\n",
       " 'lima beans (mature)',\n",
       " 'navy beans',\n",
       " 'pinto beans',\n",
       " 'soy beans',\n",
       " 'split peas',\n",
       " 'white beans',\n",
       " 'tempeh',\n",
       " 'texturized vegetable protein (TVP)',\n",
       " 'tofu (made from soybeans)',\n",
       " 'veggie burgers',\n",
       " 'chicken eggs',\n",
       " 'duck eggs',\n",
       " 'almonds',\n",
       " 'almond butter',\n",
       " 'cashews',\n",
       " 'chia seeds',\n",
       " 'hazelnuts (filberts)',\n",
       " 'mixed nuts',\n",
       " 'peanuts',\n",
       " 'peanut butter',\n",
       " 'pecans',\n",
       " 'pistachios',\n",
       " 'pumpkin seeds',\n",
       " 'sesame seeds',\n",
       " 'sunflower seeds',\n",
       " 'walnuts',\n",
       " 'catfish',\n",
       " 'cod',\n",
       " 'flounder',\n",
       " 'haddock',\n",
       " 'halibut',\n",
       " 'herring',\n",
       " 'mackerel',\n",
       " 'pollock',\n",
       " 'porgy',\n",
       " 'salmon',\n",
       " 'sea bass',\n",
       " 'snapper',\n",
       " 'sushi',\n",
       " 'swordfish',\n",
       " 'tilapia',\n",
       " 'trout',\n",
       " 'tuna',\n",
       " 'clams',\n",
       " 'crab',\n",
       " 'crayfish',\n",
       " 'lobster',\n",
       " 'mussels',\n",
       " 'octopus',\n",
       " 'oysters',\n",
       " 'scallops',\n",
       " 'shrimp',\n",
       " 'squid (calamari)',\n",
       " 'anchovies',\n",
       " 'sardines',\n",
       " 'amaranth',\n",
       " 'brown rice',\n",
       " 'buckwheat',\n",
       " 'bulgur (cracked wheat)',\n",
       " 'kamut',\n",
       " 'millet',\n",
       " 'muesli',\n",
       " 'oatmeal',\n",
       " 'popcorn',\n",
       " 'quinoa',\n",
       " 'rolled oats',\n",
       " 'sorghum',\n",
       " 'spelt',\n",
       " 'teff',\n",
       " 'whole grain barley',\n",
       " 'whole grain cornmeal',\n",
       " 'whole grain sorghum',\n",
       " 'whole rye',\n",
       " 'whole wheat bread',\n",
       " 'whole wheat cereal flakes',\n",
       " 'whole wheat crackers',\n",
       " 'whole wheat pasta',\n",
       " 'whole wheat sandwich buns and rolls',\n",
       " 'whole wheat tortillas',\n",
       " 'wild rice',\n",
       " 'bagels',\n",
       " 'biscuits',\n",
       " 'breadcrumbs',\n",
       " 'cakes',\n",
       " 'challah bread',\n",
       " 'cookies',\n",
       " 'corn flakes',\n",
       " 'corn tortillas',\n",
       " 'cornbread',\n",
       " 'couscous',\n",
       " 'crackers, saltine',\n",
       " 'English muffins',\n",
       " 'flour tortilla',\n",
       " 'French bread',\n",
       " 'grits',\n",
       " 'hominy',\n",
       " 'matzo',\n",
       " 'naan',\n",
       " 'noodles',\n",
       " 'pancakes',\n",
       " 'pasta (spaghetti, macaroni)',\n",
       " 'pie/pastry crusts',\n",
       " 'pita bread',\n",
       " 'pizza crust',\n",
       " 'polenta',\n",
       " 'pretzels',\n",
       " 'ramen noodles',\n",
       " 'rice cakes',\n",
       " 'rice paper (spring roll wrappers)',\n",
       " 'rice vermicelli',\n",
       " 'waffles',\n",
       " 'white bread',\n",
       " 'white rice',\n",
       " 'white sandwich buns and rolls']"
      ]
     },
     "execution_count": 47,
     "metadata": {},
     "output_type": "execute_result"
    }
   ],
   "source": [
    "rsp = requests.get('https://www.halfyourplate.ca/fruits-and-veggies/fruits-a-z/')\n",
    "soup = BeautifulSoup(rsp.content, 'html.parser')\n",
    "selector = \"body > div.wrapper.interior-wrapper > div.left-column > ul > li >a\"\n",
    "rows = soup.select(selector)\n",
    "\n",
    "healthyfood = []\n",
    "for row in rows: \n",
    "    fruit = row.text\n",
    "    healthyfood.append(fruit)\n",
    "\n",
    "rsp2 = requests.get('https://www.halfyourplate.ca/fruits-and-veggies/veggies-a-z/')\n",
    "soup2 = BeautifulSoup(rsp2.content, 'html.parser')\n",
    "selector2 = \"body > div.wrapper.interior-wrapper > div.left-column > ul > li > a\"\n",
    "rows2 = soup2.select(selector2)\n",
    "\n",
    "for row in rows2: \n",
    "    veg = row.text\n",
    "    healthyfood.append(veg)\n",
    "\n",
    "soup4 = BeautifulSoup(requests.get('https://www.eatthis.com/healthiest-foods-on-planet/').content, 'html.parser')\n",
    "rows4 = soup4.select(\"body > div.white-wrapper > div.single-post.container-fluid.max-width.main-page-content.post-353084.post.type-post.status-publish.format-standard.has-post-thumbnail.hentry.category-healthy-eating.tag-food-nutrition.tag-healthy-foods.tag-healthy-snacks > div.row.main-area > div.main-content > div.content > div > div > h2\")\n",
    "\n",
    "for row in rows4: \n",
    "    food = row.text\n",
    "    healthyfood.append(food)\n",
    "\n",
    "soup6 = BeautifulSoup(requests.get('https://www.choosemyplate.gov/eathealthy/protein-foods/protein-foods-group-food-gallery').content, 'html.parser')\n",
    "rows6 = soup6.select(\"#block-usda-myplatekitchen-theme-content > article > div > table > tbody > tr > td > ul > li\")\n",
    "len(rows6)\n",
    "\n",
    "for row in rows6: \n",
    "    food = row.text\n",
    "    healthyfood.append(food)\n",
    "\n",
    "soup7 = BeautifulSoup(requests.get('https://www.choosemyplate.gov/eathealthy/grains/grains-group-food-gallery').content, 'html.parser')\n",
    "rows7 = soup7.select(\"#block-usda-myplatekitchen-theme-content > article > div > table > tbody > tr > td > ul > li\")\n",
    "len(rows7)\n",
    "\n",
    "for row in rows7: \n",
    "    food = row.text\n",
    "    healthyfood.append(food)\n",
    "\n",
    "len(healthyfood)\n",
    "\n",
    "healthy_fix = []\n",
    "for i in healthyfood: \n",
    "    i = i.replace(u'\\n\\t\\t\\t\\t\\xa0', u'')\n",
    "    i = i.replace(u'*', u'')\n",
    "    healthy_fix.append(i) \n",
    "\n",
    "healthy_unique = [] \n",
    "for i in healthy_fix: \n",
    "    if i not in healthy_unique: \n",
    "        healthy_unique.append(i) \n",
    "\n",
    "healthy_unique"
   ]
  },
  {
   "cell_type": "code",
   "execution_count": 4,
   "metadata": {},
   "outputs": [
    {
     "data": {
      "text/plain": [
       "['Bitterballen',\n",
       " 'Bonda',\n",
       " 'Cereal',\n",
       " 'Cokodok',\n",
       " 'Cracker nuts',\n",
       " 'Crêpe',\n",
       " 'Croquette',\n",
       " 'Doughnut',\n",
       " 'Gulha',\n",
       " 'Khanom buang',\n",
       " 'Pakora',\n",
       " 'Pancakes',\n",
       " 'Parippu Vada',\n",
       " 'Pazham Pori',\n",
       " 'Pizza',\n",
       " 'Poffertjes',\n",
       " 'Pretzel',\n",
       " 'Waffle',\n",
       " 'Brittle',\n",
       " 'Imli Candy',\n",
       " 'Bubblegum',\n",
       " 'Candy',\n",
       " 'Chocolate',\n",
       " 'Chocolate bar',\n",
       " 'Chocolate truffle',\n",
       " 'Fudge',\n",
       " 'Geplak',\n",
       " 'Grass jelly',\n",
       " 'Marshmallow',\n",
       " 'Marzipan',\n",
       " 'Nougat',\n",
       " 'Panforte',\n",
       " 'Pudding',\n",
       " 'Rice Krispie treats',\n",
       " \"S'mores\",\n",
       " 'Toffee',\n",
       " 'Turkish delight',\n",
       " 'Arrowroot',\n",
       " 'Chocolate chip cookie',\n",
       " 'Cookie',\n",
       " 'Ginger snaps',\n",
       " 'Graham crackers',\n",
       " 'Oatmeal cookie',\n",
       " 'Peanut butter cookie',\n",
       " 'Gansito',\n",
       " 'Jaffa Cakes',\n",
       " 'Snack cake',\n",
       " 'Churros',\n",
       " 'Fairy bread',\n",
       " 'Fruit bun',\n",
       " 'Pastry',\n",
       " 'Scones',\n",
       " 'pie',\n",
       " 'Toaster pastry',\n",
       " 'Amazake',\n",
       " 'Atole',\n",
       " 'Coffee',\n",
       " 'Colada morada',\n",
       " 'Energy drinks',\n",
       " 'Red Bull',\n",
       " 'Monster',\n",
       " 'Flavored milk',\n",
       " 'Horchata',\n",
       " 'Juice',\n",
       " 'Kefir',\n",
       " 'Malted milk',\n",
       " 'Milkshake',\n",
       " 'Root beer',\n",
       " 'Root beer float',\n",
       " 'Sikhye',\n",
       " 'Soft drinks',\n",
       " 'Smoothie',\n",
       " 'Sports drinks',\n",
       " 'Gatorade',\n",
       " 'Powerade',\n",
       " 'Tamagozake',\n",
       " 'Tea',\n",
       " 'Tejuino',\n",
       " 'Frozen custard',\n",
       " 'Ice cream',\n",
       " 'Ice pop',\n",
       " 'Achappam',\n",
       " 'Ada',\n",
       " 'Dolma',\n",
       " 'French fries',\n",
       " 'Hummus',\n",
       " 'Instant soup',\n",
       " 'Khandvi',\n",
       " 'Kuzhalappam',\n",
       " 'Meze',\n",
       " 'Nian gao',\n",
       " 'Obložené chlebíčky',\n",
       " 'Onion rings',\n",
       " 'Piattos',\n",
       " 'Sesame sticks',\n",
       " 'Sev mamra',\n",
       " 'Spring roll',\n",
       " 'Tahini',\n",
       " 'Tapas',\n",
       " 'Tempura',\n",
       " 'Unniyappam,',\n",
       " 'Yogurt',\n",
       " 'Energy bar',\n",
       " 'Flapjack',\n",
       " 'Granola bar',\n",
       " 'Bagel',\n",
       " 'Bread',\n",
       " 'Buterbrod',\n",
       " 'Butterbrot',\n",
       " 'Croissant',\n",
       " 'Croutons',\n",
       " 'Fried bake',\n",
       " 'Gua-bao',\n",
       " 'Houska',\n",
       " 'Lavash',\n",
       " 'Open sandwich',\n",
       " 'Pasta',\n",
       " 'Sandwich',\n",
       " 'Smørrebrød',\n",
       " 'Tea sandwich',\n",
       " 'Tortilla',\n",
       " 'Totopo',\n",
       " 'American cheese',\n",
       " 'Cheese',\n",
       " 'Cream cheese',\n",
       " 'Korbáčiky',\n",
       " 'Oaxaca cheese',\n",
       " 'Obatzda',\n",
       " 'Parmesan cheese',\n",
       " 'Processed cheese',\n",
       " 'String cheese',\n",
       " 'Banana chip',\n",
       " 'Cheese puff',\n",
       " 'Chifle',\n",
       " 'Corn chips',\n",
       " 'Corn nuts',\n",
       " 'Multi-grain snacks',\n",
       " 'Nachos',\n",
       " 'Pita chips',\n",
       " 'Pork rind',\n",
       " 'Potato chips',\n",
       " 'Snack mix',\n",
       " 'Tortilla chips',\n",
       " 'Animal cracker',\n",
       " 'Arare',\n",
       " 'Bagel chips',\n",
       " 'Crackers',\n",
       " 'Hardtack',\n",
       " 'Knäckebröd',\n",
       " 'Oyster cracker',\n",
       " 'Rice cracker',\n",
       " 'Senbei',\n",
       " 'Soda cracker',\n",
       " 'Water biscuit',\n",
       " 'Bacon',\n",
       " 'Çiğ köfte',\n",
       " 'Corn dog',\n",
       " 'Dried cuttlefish',\n",
       " 'Dried fish',\n",
       " 'squid',\n",
       " 'Fish',\n",
       " 'Hot dogs',\n",
       " 'Jerky',\n",
       " 'Kibbeh nayyeh',\n",
       " 'Omelet',\n",
       " 'Oysters',\n",
       " 'canned',\n",
       " 'Pickled herring',\n",
       " 'Soused herring',\n",
       " 'Bombay mix',\n",
       " 'Cup Noodles',\n",
       " 'Instant noodles',\n",
       " 'Ramen',\n",
       " 'Coffee Creamer',\n",
       " 'Bleached White Flour Bread',\n",
       " 'Fruit Juice',\n",
       " 'Diet Sodas',\n",
       " 'Deep Fried Foods',\n",
       " 'Bacon & Sausage',\n",
       " 'Sugary Cereal',\n",
       " 'Frozen Entrées',\n",
       " 'Restaurant Desserts',\n",
       " 'White Sugar',\n",
       " 'Frosting',\n",
       " 'Pancake Syrup',\n",
       " 'Bottled Smoothies',\n",
       " 'Charred Meats',\n",
       " 'Fast Food',\n",
       " 'Energy Drinks',\n",
       " 'Ready-To-Bake Pie Crust',\n",
       " 'Brown Rice',\n",
       " 'Breakfast Biscuits',\n",
       " 'BBQ Sauce',\n",
       " 'Diet Ice Cream',\n",
       " 'Sports Drinks',\n",
       " 'Cheesecake',\n",
       " 'Tiramisu',\n",
       " 'Margarine',\n",
       " 'Meatloaf',\n",
       " 'Taco Bowls',\n",
       " 'Frozen Pizza',\n",
       " 'Fettuccine Alfredo',\n",
       " 'Belgian Waffles',\n",
       " 'Onion Rings',\n",
       " 'Mayonnaise',\n",
       " 'Fish and Chips',\n",
       " 'Mozzarella Sticks',\n",
       " 'French Toast',\n",
       " 'Croissants',\n",
       " 'Soybean Oil',\n",
       " 'Canned Soup',\n",
       " 'Bouillon Cubes',\n",
       " 'Muffins',\n",
       " 'Boxed Mac & Cheese',\n",
       " 'Frozen Pies',\n",
       " 'Hot Dogs',\n",
       " 'Chinese Food',\n",
       " 'Deli Meats',\n",
       " 'Instant Oatmeal Packets',\n",
       " 'Boxed Cake Mixes',\n",
       " 'Baked Goods',\n",
       " 'Bottled Water',\n",
       " 'Dried Fruit Snacks',\n",
       " 'American Cheese',\n",
       " 'Wheat Bread',\n",
       " 'Foods Coated with Artificial Chocolate',\n",
       " 'Pickles',\n",
       " 'Chewing Gum',\n",
       " 'Reduced-Fat Peanut Butter',\n",
       " 'Veggie Burgers',\n",
       " 'Instant Oatmeal Cups',\n",
       " 'Bottled Lemonade',\n",
       " 'Sprinkles',\n",
       " 'Maraschino Cherries',\n",
       " 'Fruit Yogurt',\n",
       " 'Bottled Coffee',\n",
       " 'Water Enhancers',\n",
       " 'Frozen Fish & Fish Products',\n",
       " 'Granola Bars',\n",
       " 'Meal Replacement Shakes',\n",
       " \"'Light' Butter Substitutes\",\n",
       " 'Salad Dressing',\n",
       " 'Fruit Cocktail',\n",
       " 'Protein Bars',\n",
       " 'Flavored Rice',\n",
       " 'Sugar-Free Jam',\n",
       " 'Sugar-Free Chocolate',\n",
       " 'Refried Beans',\n",
       " 'Fast Food Chicken Nuggets',\n",
       " 'The Unhealthiest Packaged Foods Worth Avoiding',\n",
       " 'Velveeta',\n",
       " 'Tostitos Salsa Con Queso',\n",
       " 'Cheez Whiz',\n",
       " 'Nissin Cup Noodles',\n",
       " 'Milano Cookies',\n",
       " \"Totino's Pizza Rolls\",\n",
       " 'Toaster Strudel',\n",
       " \"Hershey's Gold Bar\",\n",
       " \"Mott's Applesauce\",\n",
       " 'Nilla Wafers',\n",
       " 'Hot Pockets',\n",
       " 'Slim Jim',\n",
       " 'Pop-Tarts',\n",
       " 'Chef Boyardee Spaghetti & Meatballs',\n",
       " 'Doritos',\n",
       " 'Cheetos',\n",
       " 'Oreos',\n",
       " 'Chips Ahoy! Cookies',\n",
       " 'Sugar-Free Jell-O',\n",
       " 'Matador Original Beef Jerky',\n",
       " 'Cool Whip',\n",
       " 'Splenda']"
      ]
     },
     "execution_count": 4,
     "metadata": {},
     "output_type": "execute_result"
    }
   ],
   "source": [
    "rsp3 = requests.get('https://en.wikipedia.org/wiki/List_of_snack_foods')\n",
    "soup3 = BeautifulSoup(rsp3.content, 'html.parser')\n",
    "rows3 = soup3.select(\"#mw-content-text > div > table > tbody > tr > td:nth-child(1) > a\")\n",
    "len(rows3)\n",
    "\n",
    "unhealthyfood = []\n",
    "for row in rows3: \n",
    "    food = row.text\n",
    "    unhealthyfood.append(food)\n",
    "\n",
    "soup5 = BeautifulSoup(requests.get('https://www.eatthis.com/unhealthiest-foods-on-the-planet/').content, 'html.parser')\n",
    "rows5 = soup5.select(\"body > div.white-wrapper > div.single-post.container-fluid.max-width.main-page-content.post-352531.post.type-post.status-publish.format-standard.has-post-thumbnail.hentry.category-healthy-eating.tag-foods-to-avoid.tag-unhealthy > div.row.main-area > div.main-content > div.content > div > div > h2\")\n",
    "len(rows5)\n",
    "\n",
    "for row in rows5: \n",
    "    food = row.text\n",
    "    unhealthyfood.append(food)\n",
    "\n",
    "unhealthy_unique = [] \n",
    "for i in unhealthyfood: \n",
    "    if i not in unhealthy_unique: \n",
    "        unhealthy_unique.append(i) \n",
    "unhealthy_unique"
   ]
  },
  {
   "cell_type": "code",
   "execution_count": 48,
   "metadata": {},
   "outputs": [
    {
     "data": {
      "text/plain": [
       "['McDonald’s',\n",
       " 'Subway',\n",
       " 'Starbucks',\n",
       " 'Wendy’s',\n",
       " 'Burger King',\n",
       " 'Taco Bell',\n",
       " 'Dunkin’ Donuts',\n",
       " 'Pizza Hut',\n",
       " 'KFC',\n",
       " 'Chick-fil-A',\n",
       " 'Sonic Drive-In',\n",
       " 'Domino’s Pizza',\n",
       " 'Panera Bread',\n",
       " 'Arby’s',\n",
       " 'Jack in the Box',\n",
       " 'Dairy Queen',\n",
       " 'Chipotle Mexican Grill',\n",
       " 'Papa John’s',\n",
       " 'Hardee’s',\n",
       " 'Popeyes Louisiana Kitchen',\n",
       " 'Panda Express',\n",
       " 'Carl’s Jr.',\n",
       " 'Little Caesars',\n",
       " 'Whataburger',\n",
       " 'Five Guys Burgers & Fries',\n",
       " 'Quiznos',\n",
       " 'Jimmy John’s',\n",
       " 'Church’s Chicken',\n",
       " 'Zaxby’s',\n",
       " 'Steak ‘n Shake',\n",
       " 'Bojangles’',\n",
       " 'Culver’s',\n",
       " 'Papa Murphy’s',\n",
       " 'Checkers/Rally’s',\n",
       " 'Long John Silver’s',\n",
       " 'White Castle',\n",
       " 'Del Taco',\n",
       " 'El Pollo Loco',\n",
       " 'Jason’s Deli',\n",
       " 'Boston Market',\n",
       " 'Krispy Kreme',\n",
       " 'Qdoba Mexican Grill',\n",
       " 'CiCi’s Pizza',\n",
       " 'In-N-Out Burger',\n",
       " 'Baskin-Robbins',\n",
       " 'Tim Hortons',\n",
       " 'Einstein Bros. Bagels',\n",
       " 'Captain D’s',\n",
       " 'Sbarro',\n",
       " 'Krystal']"
      ]
     },
     "execution_count": 48,
     "metadata": {},
     "output_type": "execute_result"
    }
   ],
   "source": [
    "soup8 = BeautifulSoup(requests.get('https://www.qsrmagazine.com/reports/qsr50-2012-top-50-chart').content, 'html.parser')\n",
    "rows8 = soup8.select(\"#sortable-chart > tbody > tr > td.data-chain_name\")\n",
    "len(rows8)\n",
    "\n",
    "fastfood = []\n",
    "for row in rows8: \n",
    "    food = row.text\n",
    "    fastfood.append(food)\n",
    "\n",
    "fastfood_fix = []\n",
    "for i in fastfood: \n",
    "    i = i.replace(u'1', u'')\n",
    "    i = i.replace(u'*', u'')\n",
    "    i = i.replace(u'2', u'')\n",
    "    fastfood_fix.append(i) \n",
    "    \n",
    "fastfood_fix"
   ]
  },
  {
   "cell_type": "code",
   "execution_count": 49,
   "metadata": {},
   "outputs": [],
   "source": [
    "meals = ['breakfast', 'brunch', 'dinner', 'lunch', 'snack', 'recipe', 'cuisine', 'appetizer', 'dessert', 'food']"
   ]
  },
  {
   "cell_type": "code",
   "execution_count": 50,
   "metadata": {},
   "outputs": [],
   "source": [
    "list_food = healthy_unique + unhealthy_unique + fastfood_fix + meals"
   ]
  },
  {
   "cell_type": "markdown",
   "metadata": {},
   "source": [
    "### Tweet Sentiment Analysis"
   ]
  },
  {
   "cell_type": "code",
   "execution_count": 8,
   "metadata": {},
   "outputs": [],
   "source": [
    "consumer_key = '0r7qeDuOxRyJKIzk8xfxiC42k'\n",
    "consumer_secret = 'gqlM82vnXxm4iVuEz5j8eT9Yqx9894KcFyJ4yOGG4fn1lWESxH'\n",
    "access_token = '1199424364887691264-vjfc8pmkAK6tsbKExFAbXlKpd4rtAO'\n",
    "access_token_secret = 'DdSPBYUlekhD0rB21ZwybXWkEAidTNCPXJVJIdErfMNcB'"
   ]
  },
  {
   "cell_type": "code",
   "execution_count": 9,
   "metadata": {},
   "outputs": [],
   "source": [
    "auth = tw.OAuthHandler(consumer_key, consumer_secret)\n",
    "auth.set_access_token(access_token, access_token_secret)\n",
    "api = tw.API(auth, wait_on_rate_limit=True, timeout=5)"
   ]
  },
  {
   "cell_type": "code",
   "execution_count": 10,
   "metadata": {},
   "outputs": [],
   "source": [
    "Brooklyn = api.geo_search(query=\"Brooklyn\", granularity=\"city\")"
   ]
  },
  {
   "cell_type": "code",
   "execution_count": 11,
   "metadata": {},
   "outputs": [],
   "source": [
    "Queens = api.geo_search(query=\"Queens\", granularity=\"city\")"
   ]
  },
  {
   "cell_type": "code",
   "execution_count": 12,
   "metadata": {},
   "outputs": [
    {
     "name": "stdout",
     "output_type": "stream",
     "text": [
      "placeid:Place(_api=<tweepy.api.API object at 0x0000019E33D55160>, id='011add077f4d2da3', url='https://api.twitter.com/1.1/geo/id/011add077f4d2da3.json', place_type='city', name='Brooklyn', full_name='Brooklyn, NY', country_code='US', country='United States', contained_within=[Place(_api=<tweepy.api.API object at 0x0000019E33D55160>, id='b6c2e04f1673337f', url='https://api.twitter.com/1.1/geo/id/b6c2e04f1673337f.json', place_type='admin', name='NEW YORK', full_name='NEW YORK', country_code='', country='', centroid=[-74.51426031557503, 40.842381], bounding_box=BoundingBox(_api=<tweepy.api.API object at 0x0000019E33D55160>, type='Polygon', coordinates=[[[-75.358407, 39.50181], [-75.358407, 42.177043], [-71.85615, 42.177043], [-71.85615, 39.50181], [-75.358407, 39.50181]]]), attributes={})], centroid=[-73.93950002939275, 40.655138], bounding_box=BoundingBox(_api=<tweepy.api.API object at 0x0000019E33D55160>, type='Polygon', coordinates=[[[-74.041878, 40.570842], [-74.041878, 40.739434], [-73.855673, 40.739434], [-73.855673, 40.570842], [-74.041878, 40.570842]]]), attributes={})\n",
      "placeid:Place(_api=<tweepy.api.API object at 0x0000019E33D55160>, id='1b86771ff62f45fb', url='https://api.twitter.com/1.1/geo/id/1b86771ff62f45fb.json', place_type='city', name='Brooklyn Park', full_name='Brooklyn Park, MN', country_code='US', country='United States', contained_within=[Place(_api=<tweepy.api.API object at 0x0000019E33D55160>, id='caf696c799c478ba', url='https://api.twitter.com/1.1/geo/id/caf696c799c478ba.json', place_type='admin', name='MINNEAPOLIS-ST. PAUL', full_name='MINNEAPOLIS-ST. PAUL', country_code='', country='', centroid=[-94.06355390317528, 46.0200365], bounding_box=BoundingBox(_api=<tweepy.api.API object at 0x0000019E33D55160>, type='Polygon', coordinates=[[[-96.857772, 43.499636], [-96.857772, 48.540437], [-91.539451, 48.540437], [-91.539451, 43.499636], [-96.857772, 43.499636]]]), attributes={})], centroid=[-93.3439312437599, 45.108095500000005], bounding_box=BoundingBox(_api=<tweepy.api.API object at 0x0000019E33D55160>, type='Polygon', coordinates=[[[-93.402498, 45.063712], [-93.402498, 45.152479], [-93.279015, 45.152479], [-93.279015, 45.063712], [-93.402498, 45.063712]]]), attributes={})\n",
      "placeid:Place(_api=<tweepy.api.API object at 0x0000019E33D55160>, id='91a74c998f238191', url='https://api.twitter.com/1.1/geo/id/91a74c998f238191.json', place_type='city', name='Brooklyn', full_name='Brooklyn, OH', country_code='US', country='United States', contained_within=[Place(_api=<tweepy.api.API object at 0x0000019E33D55160>, id='72a7d5cd04149533', url='https://api.twitter.com/1.1/geo/id/72a7d5cd04149533.json', place_type='admin', name='CLEVELAND-AKRON (CANTON)', full_name='CLEVELAND-AKRON (CANTON)', country_code='', country='', centroid=[-81.91790321024465, 41.095743], bounding_box=BoundingBox(_api=<tweepy.api.API object at 0x0000019E33D55160>, type='Polygon', coordinates=[[[-82.903629, 40.214253], [-82.903629, 41.977233], [-80.519153, 41.977233], [-80.519153, 40.214253], [-82.903629, 40.214253]]]), attributes={})], centroid=[-81.7522810586924, 41.44047449999999], bounding_box=BoundingBox(_api=<tweepy.api.API object at 0x0000019E33D55160>, type='Polygon', coordinates=[[[-81.7697, 41.418412], [-81.7697, 41.462537], [-81.728559, 41.462537], [-81.728559, 41.418412], [-81.7697, 41.418412]]]), attributes={})\n",
      "placeid:Place(_api=<tweepy.api.API object at 0x0000019E33D55160>, id='70e030d7c5f03769', url='https://api.twitter.com/1.1/geo/id/70e030d7c5f03769.json', place_type='city', name='Brooklyn Center', full_name='Brooklyn Center, MN', country_code='US', country='United States', contained_within=[Place(_api=<tweepy.api.API object at 0x0000019E33D55160>, id='caf696c799c478ba', url='https://api.twitter.com/1.1/geo/id/caf696c799c478ba.json', place_type='admin', name='MINNEAPOLIS-ST. PAUL', full_name='MINNEAPOLIS-ST. PAUL', country_code='', country='', centroid=[-94.06355390317528, 46.0200365], bounding_box=BoundingBox(_api=<tweepy.api.API object at 0x0000019E33D55160>, type='Polygon', coordinates=[[[-96.857772, 43.499636], [-96.857772, 48.540437], [-91.539451, 48.540437], [-91.539451, 43.499636], [-96.857772, 43.499636]]]), attributes={})], centroid=[-93.31233116957873, 45.063727], bounding_box=BoundingBox(_api=<tweepy.api.API object at 0x0000019E33D55160>, type='Polygon', coordinates=[[[-93.351357, 45.039888], [-93.351357, 45.087566], [-93.281148, 45.087566], [-93.281148, 45.039888], [-93.351357, 45.039888]]]), attributes={})\n",
      "placeid:Place(_api=<tweepy.api.API object at 0x0000019E33D55160>, id='33f15b70d054c34a', url='https://api.twitter.com/1.1/geo/id/33f15b70d054c34a.json', place_type='city', name='Brooklyn Heights', full_name='Brooklyn Heights, OH', country_code='US', country='United States', contained_within=[Place(_api=<tweepy.api.API object at 0x0000019E33D55160>, id='72a7d5cd04149533', url='https://api.twitter.com/1.1/geo/id/72a7d5cd04149533.json', place_type='admin', name='CLEVELAND-AKRON (CANTON)', full_name='CLEVELAND-AKRON (CANTON)', country_code='', country='', centroid=[-81.91790321024465, 41.095743], bounding_box=BoundingBox(_api=<tweepy.api.API object at 0x0000019E33D55160>, type='Polygon', coordinates=[[[-82.903629, 40.214253], [-82.903629, 41.977233], [-80.519153, 41.977233], [-80.519153, 40.214253], [-82.903629, 40.214253]]]), attributes={})], centroid=[-81.67046490173932, 41.419311], bounding_box=BoundingBox(_api=<tweepy.api.API object at 0x0000019E33D55160>, type='Polygon', coordinates=[[[-81.68573, 41.406166], [-81.68573, 41.432456], [-81.65182, 41.432456], [-81.65182, 41.406166], [-81.68573, 41.406166]]]), attributes={})\n",
      "placeid:Place(_api=<tweepy.api.API object at 0x0000019E33D55160>, id='4c8e28554110ebcf', url='https://api.twitter.com/1.1/geo/id/4c8e28554110ebcf.json', place_type='city', name='Brooklyn Park', full_name='Brooklyn Park, MD', country_code='US', country='United States', contained_within=[Place(_api=<tweepy.api.API object at 0x0000019E33D55160>, id='4aeee22292683029', url='https://api.twitter.com/1.1/geo/id/4aeee22292683029.json', place_type='admin', name='BALTIMORE', full_name='BALTIMORE', country_code='', country='', centroid=[-76.76460222854276, 39.150496000000004], bounding_box=BoundingBox(_api=<tweepy.api.API object at 0x0000019E33D55160>, type='Polygon', coordinates=[[[-77.311651, 38.578904], [-77.311651, 39.722088], [-75.707462, 39.722088], [-75.707462, 38.578904], [-77.311651, 38.578904]]]), attributes={})], centroid=[-76.61089485305067, 39.2200845], bounding_box=BoundingBox(_api=<tweepy.api.API object at 0x0000019E33D55160>, type='Polygon', coordinates=[[[-76.631536, 39.202731], [-76.631536, 39.237438], [-76.584333, 39.237438], [-76.584333, 39.202731], [-76.631536, 39.202731]]]), attributes={})\n",
      "placeid:Place(_api=<tweepy.api.API object at 0x0000019E33D55160>, id='01e56ab26c697dde', url='https://api.twitter.com/1.1/geo/id/01e56ab26c697dde.json', place_type='city', name='East Brooklyn', full_name='East Brooklyn, CT', country_code='US', country='United States', contained_within=[Place(_api=<tweepy.api.API object at 0x0000019E33D55160>, id='0c5e80333d718444', url='https://api.twitter.com/1.1/geo/id/0c5e80333d718444.json', place_type='admin', name='HARTFORD & NEW HAVEN', full_name='HARTFORD & NEW HAVEN', country_code='', country='', centroid=[-73.0521306974949, 41.610857499999995], bounding_box=BoundingBox(_api=<tweepy.api.API object at 0x0000019E33D55160>, type='Polygon', coordinates=[[[-73.518065, 41.171127], [-73.518065, 42.050588], [-71.786994, 42.050588], [-71.786994, 41.171127], [-73.518065, 41.171127]]]), attributes={})], centroid=[-71.91232575520029, 41.7841145], bounding_box=BoundingBox(_api=<tweepy.api.API object at 0x0000019E33D55160>, type='Polygon', coordinates=[[[-71.938605, 41.741275], [-71.938605, 41.826954], [-71.885377, 41.826954], [-71.885377, 41.741275], [-71.938605, 41.741275]]]), attributes={})\n",
      "placeid:Place(_api=<tweepy.api.API object at 0x0000019E33D55160>, id='015e176065cca0cf', url='https://api.twitter.com/1.1/geo/id/015e176065cca0cf.json', place_type='city', name='Brooklyn', full_name='Brooklyn, WI', country_code='US', country='United States', contained_within=[Place(_api=<tweepy.api.API object at 0x0000019E33D55160>, id='d7ebfe7dc362c944', url='https://api.twitter.com/1.1/geo/id/d7ebfe7dc362c944.json', place_type='admin', name='MADISON', full_name='MADISON', country_code='', country='', centroid=[-89.83751843635243, 43.370725], bounding_box=BoundingBox(_api=<tweepy.api.API object at 0x0000019E33D55160>, type='Polygon', coordinates=[[[-91.156894, 42.491921], [-91.156894, 44.249529], [-88.776225, 44.249529], [-88.776225, 42.491921], [-91.156894, 42.491921]]]), attributes={})], centroid=[-89.36028589193728, 42.863393], bounding_box=BoundingBox(_api=<tweepy.api.API object at 0x0000019E33D55160>, type='Polygon', coordinates=[[[-89.383396, 42.845134], [-89.383396, 42.881652], [-89.340675, 42.881652], [-89.340675, 42.845134], [-89.383396, 42.845134]]]), attributes={})\n",
      "placeid:Place(_api=<tweepy.api.API object at 0x0000019E33D55160>, id='ee34eca38c8fc9ea', url='https://api.twitter.com/1.1/geo/id/ee34eca38c8fc9ea.json', place_type='city', name='Brooklyn', full_name='Brooklyn, MI', country_code='US', country='United States', contained_within=[Place(_api=<tweepy.api.API object at 0x0000019E33D55160>, id='18cd11de67c0bcc8', url='https://api.twitter.com/1.1/geo/id/18cd11de67c0bcc8.json', place_type='admin', name='LANSING', full_name='LANSING', country_code='', country='', centroid=[-84.42493762287975, 42.407467], bounding_box=BoundingBox(_api=<tweepy.api.API object at 0x0000019E33D55160>, type='Polygon', coordinates=[[[-85.075593, 41.696088], [-85.075593, 43.118846], [-84.130728, 43.118846], [-84.130728, 41.696088], [-85.075593, 41.696088]]]), attributes={})], centroid=[-84.24841702275953, 42.105957000000004], bounding_box=BoundingBox(_api=<tweepy.api.API object at 0x0000019E33D55160>, type='Polygon', coordinates=[[[-84.260756, 42.096536], [-84.260756, 42.115378], [-84.238863, 42.115378], [-84.238863, 42.096536], [-84.260756, 42.096536]]]), attributes={})\n",
      "placeid:Place(_api=<tweepy.api.API object at 0x0000019E33D55160>, id='013277be691e3583', url='https://api.twitter.com/1.1/geo/id/013277be691e3583.json', place_type='city', name='Brooklyn', full_name='Brooklyn, New South Wales', country_code='AU', country='Australia', contained_within=[Place(_api=<tweepy.api.API object at 0x0000019E33D55160>, id='265b933184e2b88a', url='https://api.twitter.com/1.1/geo/id/265b933184e2b88a.json', place_type='admin', name='New South Wales', full_name='New South Wales, Australia', country_code='AU', country='Australia', centroid=[146.34634135672633, -32.83103995542725], bounding_box=BoundingBox(_api=<tweepy.api.API object at 0x0000019E33D55160>, type='Polygon', coordinates=[[[140.999474522999, -37.5050599967256], [140.999474522999, -28.1570199141289], [159.109219005872, -28.1570199141289], [159.109219005872, -37.5050599967256], [140.999474522999, -37.5050599967256]]]), attributes={})], centroid=[151.2044975026961, -33.545218137], bounding_box=BoundingBox(_api=<tweepy.api.API object at 0x0000019E33D55160>, type='Polygon', coordinates=[[[151.194947968, -33.5527852475], [151.194947968, -33.5376510265], [151.23310704, -33.5376510265], [151.23310704, -33.5527852475], [151.194947968, -33.5527852475]]]), attributes={})\n",
      "placeid:Place(_api=<tweepy.api.API object at 0x0000019E33D55160>, id='78ef6dad1153f544', url='https://api.twitter.com/1.1/geo/id/78ef6dad1153f544.json', place_type='city', name='Brooklyn', full_name='Brooklyn, IN', country_code='US', country='United States', contained_within=[Place(_api=<tweepy.api.API object at 0x0000019E33D55160>, id='9a21ce2331492758', url='https://api.twitter.com/1.1/geo/id/9a21ce2331492758.json', place_type='admin', name='INDIANAPOLIS', full_name='INDIANAPOLIS', country_code='', country='', centroid=[-85.91181239419167, 39.8428855], bounding_box=BoundingBox(_api=<tweepy.api.API object at 0x0000019E33D55160>, type='Polygon', coordinates=[[[-87.440118, 38.686573], [-87.440118, 40.999198], [-84.80367, 40.999198], [-84.80367, 38.686573], [-87.440118, 38.686573]]]), attributes={})], centroid=[-86.37255751344932, 39.541584], bounding_box=BoundingBox(_api=<tweepy.api.API object at 0x0000019E33D55160>, type='Polygon', coordinates=[[[-86.378895, 39.532119], [-86.378895, 39.551049], [-86.354911, 39.551049], [-86.354911, 39.532119], [-86.378895, 39.532119]]]), attributes={})\n",
      "placeid:Place(_api=<tweepy.api.API object at 0x0000019E33D55160>, id='0e288979e0794c46', url='https://api.twitter.com/1.1/geo/id/0e288979e0794c46.json', place_type='city', name='Brooklyn Heights', full_name='Brooklyn Heights, MO', country_code='US', country='United States', contained_within=[Place(_api=<tweepy.api.API object at 0x0000019E33D55160>, id='4f15e4e8227b923d', url='https://api.twitter.com/1.1/geo/id/4f15e4e8227b923d.json', place_type='admin', name='JOPLIN-PITTSBURG', full_name='JOPLIN-PITTSBURG', country_code='', country='', centroid=[-94.7854621056928, 37.27937], bounding_box=BoundingBox(_api=<tweepy.api.API object at 0x0000019E33D55160>, type='Polygon', coordinates=[[[-95.962659, 36.498725], [-95.962659, 38.060015], [-94.052314, 38.060015], [-94.052314, 36.498725], [-95.962659, 36.498725]]]), attributes={})], centroid=[-94.38670653208271, 37.1696205], bounding_box=BoundingBox(_api=<tweepy.api.API object at 0x0000019E33D55160>, type='Polygon', coordinates=[[[-94.3957618, 37.165971], [-94.3957618, 37.17327], [-94.383283, 37.17327], [-94.383283, 37.165971], [-94.3957618, 37.165971]]]), attributes={})\n",
      "placeid:Place(_api=<tweepy.api.API object at 0x0000019E33D55160>, id='00d213605247e88a', url='https://api.twitter.com/1.1/geo/id/00d213605247e88a.json', place_type='city', name='Brooklyn', full_name='Brooklyn, IL', country_code='US', country='United States', contained_within=[Place(_api=<tweepy.api.API object at 0x0000019E33D55160>, id='f0a83098d0954069', url='https://api.twitter.com/1.1/geo/id/f0a83098d0954069.json', place_type='admin', name='ST. LOUIS', full_name='ST. LOUIS', country_code='', country='', centroid=[-90.39510416822927, 38.324431000000004], bounding_box=BoundingBox(_api=<tweepy.api.API object at 0x0000019E33D55160>, type='Polygon', coordinates=[[[-92.02936, 37.050325], [-92.02936, 39.598537], [-88.248729, 39.598537], [-88.248729, 37.050325], [-92.02936, 37.050325]]]), attributes={})], centroid=[-90.16862710790168, 38.648638500000004], bounding_box=BoundingBox(_api=<tweepy.api.API object at 0x0000019E33D55160>, type='Polygon', coordinates=[[[-90.177831, 38.636666], [-90.177831, 38.660611], [-90.146712, 38.660611], [-90.146712, 38.636666], [-90.177831, 38.636666]]]), attributes={})\n"
     ]
    }
   ],
   "source": [
    "for place in Brooklyn:    \n",
    "    print(\"placeid:%s\" % place)"
   ]
  },
  {
   "cell_type": "code",
   "execution_count": 13,
   "metadata": {},
   "outputs": [
    {
     "name": "stdout",
     "output_type": "stream",
     "text": [
      "placeid:Place(_api=<tweepy.api.API object at 0x0000019E33D55160>, id='00c39537733fa112', url='https://api.twitter.com/1.1/geo/id/00c39537733fa112.json', place_type='city', name='Queens', full_name='Queens, NY', country_code='US', country='United States', contained_within=[Place(_api=<tweepy.api.API object at 0x0000019E33D55160>, id='b6c2e04f1673337f', url='https://api.twitter.com/1.1/geo/id/b6c2e04f1673337f.json', place_type='admin', name='NEW YORK', full_name='NEW YORK', country_code='', country='', centroid=[-74.51426031557503, 40.842381], bounding_box=BoundingBox(_api=<tweepy.api.API object at 0x0000019E33D55160>, type='Polygon', coordinates=[[[-75.358407, 39.50181], [-75.358407, 42.177043], [-71.85615, 42.177043], [-71.85615, 39.50181], [-75.358407, 39.50181]]]), attributes={})], centroid=[-73.82392802812883, 40.709785049999994], bounding_box=BoundingBox(_api=<tweepy.api.API object at 0x0000019E33D55160>, type='Polygon', coordinates=[[[-73.962582, 40.541722], [-73.962582, 40.8000371], [-73.699793, 40.8000371], [-73.699793, 40.541722], [-73.962582, 40.541722]]]), attributes={})\n",
      "placeid:Place(_api=<tweepy.api.API object at 0x0000019E33D55160>, id='49f93f5ee9d57aff', url='https://api.twitter.com/1.1/geo/id/49f93f5ee9d57aff.json', place_type='city', name='Queensferry', full_name='Queensferry, Scotland', country_code='GB', country='United Kingdom', contained_within=[Place(_api=<tweepy.api.API object at 0x0000019E33D55160>, id='01a291d5428f15ab', url='https://api.twitter.com/1.1/geo/id/01a291d5428f15ab.json', place_type='admin', name='Edinburgh', full_name='Edinburgh', country_code='GB', country='United Kingdom', centroid=[-3.195592728161283, 55.8880045], bounding_box=BoundingBox(_api=<tweepy.api.API object at 0x0000019E33D55160>, type='Polygon', coordinates=[[[-3.831248, 55.710347], [-3.831248, 56.079285], [-2.365929, 56.079285], [-2.365929, 55.710347], [-3.831248, 55.710347]]]), attributes={})], centroid=[-3.399280547550625, 55.98695145], bounding_box=BoundingBox(_api=<tweepy.api.API object at 0x0000019E33D55160>, type='Polygon', coordinates=[[[-3.4220413, 55.9802309], [-3.4220413, 55.993672], [-3.3771852, 55.993672], [-3.3771852, 55.9802309], [-3.4220413, 55.9802309]]]), attributes={})\n",
      "placeid:Place(_api=<tweepy.api.API object at 0x0000019E33D55160>, id='01c3911606d9105f', url='https://api.twitter.com/1.1/geo/id/01c3911606d9105f.json', place_type='city', name='Queenstown-Lakes District', full_name='Queenstown-Lakes District, New Zealand', country_code='NZ', country='New Zealand', contained_within=[Place(_api=<tweepy.api.API object at 0x0000019E33D55160>, id='00ca9858253d2d0b', url='https://api.twitter.com/1.1/geo/id/00ca9858253d2d0b.json', place_type='admin', name='Otago Region', full_name='Otago Region, New Zealand', country_code='NZ', country='New Zealand', centroid=[169.96402376132374, -45.2967675], bounding_box=BoundingBox(_api=<tweepy.api.API object at 0x0000019E33D55160>, type='Polygon', coordinates=[[[168.116395, -46.638124], [168.116395, -43.955411], [171.144216, -43.955411], [171.144216, -46.638124], [168.116395, -46.638124]]]), attributes={})], centroid=[168.77416954919607, -44.6614885], bounding_box=BoundingBox(_api=<tweepy.api.API object at 0x0000019E33D55160>, type='Polygon', coordinates=[[[168.116395, -45.367566], [168.116395, -43.955411], [169.719783, -43.955411], [169.719783, -45.367566], [168.116395, -45.367566]]]), attributes={})\n",
      "placeid:Place(_api=<tweepy.api.API object at 0x0000019E33D55160>, id='21a6bb4a925e3c1b', url='https://api.twitter.com/1.1/geo/id/21a6bb4a925e3c1b.json', place_type='city', name='Queensbury', full_name='Queensbury, England', country_code='GB', country='United Kingdom', contained_within=[Place(_api=<tweepy.api.API object at 0x0000019E33D55160>, id='4efd6fc8c50fae33', url='https://api.twitter.com/1.1/geo/id/4efd6fc8c50fae33.json', place_type='admin', name='Yorkshire and The Humber', full_name='Yorkshire and The Humber, England', country_code='GB', country='United Kingdom', centroid=[-1.1664599862185754, 53.93184458866235], bounding_box=BoundingBox(_api=<tweepy.api.API object at 0x0000019E33D55160>, type='Polygon', coordinates=[[[-2.56475248726412, 53.3015341502953], [-2.56475248726412, 54.5621550270294], [0.149787002205902, 54.5621550270294], [0.149787002205902, 53.3015341502953], [-2.56475248726412, 53.3015341502953]]]), attributes={})], centroid=[-1.8586923625843506, 53.76438], bounding_box=BoundingBox(_api=<tweepy.api.API object at 0x0000019E33D55160>, type='Polygon', coordinates=[[[-1.8646017, 53.756579], [-1.8646017, 53.772181], [-1.831052, 53.772181], [-1.831052, 53.756579], [-1.8646017, 53.756579]]]), attributes={})\n",
      "placeid:Place(_api=<tweepy.api.API object at 0x0000019E33D55160>, id='00d100d31d7ba850', url='https://api.twitter.com/1.1/geo/id/00d100d31d7ba850.json', place_type='city', name='Queensbury', full_name='Queensbury, NY', country_code='US', country='United States', contained_within=[Place(_api=<tweepy.api.API object at 0x0000019E33D55160>, id='4ffa03b662822a0e', url='https://api.twitter.com/1.1/geo/id/4ffa03b662822a0e.json', place_type='admin', name='ALBANY-SCHENECTADY-TROY', full_name='ALBANY-SCHENECTADY-TROY', country_code='', country='', centroid=[-73.88149182600827, 43.049265000000005], bounding_box=BoundingBox(_api=<tweepy.api.API object at 0x0000019E33D55160>, type='Polygon', coordinates=[[[-74.867704, 41.977978], [-74.867704, 44.120552], [-72.819773, 44.120552], [-72.819773, 41.977978], [-74.867704, 41.977978]]]), attributes={})], centroid=[-73.65027977746107, 43.3592655], bounding_box=BoundingBox(_api=<tweepy.api.API object at 0x0000019E33D55160>, type='Polygon', coordinates=[[[-73.684795, 43.318181], [-73.684795, 43.385954], [-73.60886, 43.385954], [-73.60886, 43.318181], [-73.684795, 43.318181]]]), attributes={})\n",
      "placeid:Place(_api=<tweepy.api.API object at 0x0000019E33D55160>, id='66c1d5f2aa9e117b', url='https://api.twitter.com/1.1/geo/id/66c1d5f2aa9e117b.json', place_type='city', name='Queenstown', full_name='Queenstown, South Africa', country_code='ZA', country='South Africa', contained_within=[Place(_api=<tweepy.api.API object at 0x0000019E33D55160>, id='2e584faebb216d70', url='https://api.twitter.com/1.1/geo/id/2e584faebb216d70.json', place_type='admin', name='Eastern Cape', full_name='Eastern Cape', country_code='ZA', country='South Africa', centroid=[26.590669965917435, -32.10777935], bounding_box=BoundingBox(_api=<tweepy.api.API object at 0x0000019E33D55160>, type='Polygon', coordinates=[[[22.7357419, -34.213638], [22.7357419, -30.0019207], [30.1942199, -30.0019207], [30.1942199, -34.213638], [22.7357419, -34.213638]]]), attributes={})], centroid=[26.874809618777306, -31.8908886], bounding_box=BoundingBox(_api=<tweepy.api.API object at 0x0000019E33D55160>, type='Polygon', coordinates=[[[26.7816751, -31.9422533], [26.7816751, -31.8395239], [26.9525138, -31.8395239], [26.9525138, -31.9422533], [26.7816751, -31.9422533]]]), attributes={})\n",
      "placeid:Place(_api=<tweepy.api.API object at 0x0000019E33D55160>, id='6ecfbbd4a10c5bc8', url='https://api.twitter.com/1.1/geo/id/6ecfbbd4a10c5bc8.json', place_type='city', name='Indian Queens', full_name='Indian Queens, England', country_code='GB', country='United Kingdom', contained_within=[Place(_api=<tweepy.api.API object at 0x0000019E33D55160>, id='25d3e991f5637f5a', url='https://api.twitter.com/1.1/geo/id/25d3e991f5637f5a.json', place_type='admin', name='South West', full_name='South West, England', country_code='GB', country='United Kingdom', centroid=[-2.9490556970065547, 51.03397601632625], bounding_box=BoundingBox(_api=<tweepy.api.API object at 0x0000019E33D55160>, type='Polygon', coordinates=[[[-6.36850399906372, 49.8824720005481], [-6.36850399906372, 52.1125420344225], [-1.48573420014269, 52.1125420344225], [-1.48573420014269, 49.8824720005481], [-6.36850399906372, 49.8824720005481]]]), attributes={})], centroid=[-4.932344720170557, 50.391411], bounding_box=BoundingBox(_api=<tweepy.api.API object at 0x0000019E33D55160>, type='Polygon', coordinates=[[[-4.944542, 50.382824], [-4.944542, 50.399998], [-4.925978, 50.399998], [-4.925978, 50.382824], [-4.944542, 50.382824]]]), attributes={})\n",
      "placeid:Place(_api=<tweepy.api.API object at 0x0000019E33D55160>, id='3c6168ed35c5532d', url='https://api.twitter.com/1.1/geo/id/3c6168ed35c5532d.json', place_type='city', name='Queensferry', full_name='Queensferry, Wales', country_code='GB', country='United Kingdom', contained_within=[Place(_api=<tweepy.api.API object at 0x0000019E33D55160>, id='208d28e57bdc12e9', url='https://api.twitter.com/1.1/geo/id/208d28e57bdc12e9.json', place_type='admin', name='Wales', full_name='Wales, United Kingdom', country_code='GB', country='United Kingdom', centroid=[-3.6072710548898463, 52.3703311846428], bounding_box=BoundingBox(_api=<tweepy.api.API object at 0x0000019E33D55160>, type='Polygon', coordinates=[[[-5.35340678071236, 51.3787780012005], [-5.35340678071236, 53.4300939018827], [-2.64982707940341, 53.4300939018827], [-2.64982707940341, 51.3787780012005], [-5.35340678071236, 51.3787780012005]]]), attributes={})], centroid=[-3.0247149463053113, 53.20504375], bounding_box=BoundingBox(_api=<tweepy.api.API object at 0x0000019E33D55160>, type='Polygon', coordinates=[[[-3.029326, 53.1987291], [-3.029326, 53.2113584], [-3.0152561, 53.2113584], [-3.0152561, 53.1987291], [-3.029326, 53.1987291]]]), attributes={})\n",
      "placeid:Place(_api=<tweepy.api.API object at 0x0000019E33D55160>, id='5ff385332d1b378e', url='https://api.twitter.com/1.1/geo/id/5ff385332d1b378e.json', place_type='city', name='Queensburgh', full_name='Queensburgh, South Africa', country_code='ZA', country='South Africa', contained_within=[Place(_api=<tweepy.api.API object at 0x0000019E33D55160>, id='93b0872649075667', url='https://api.twitter.com/1.1/geo/id/93b0872649075667.json', place_type='admin', name='KwaZulu-Natal', full_name='KwaZulu-Natal', country_code='ZA', country='South Africa', centroid=[30.46069823511935, -28.94446885], bounding_box=BoundingBox(_api=<tweepy.api.API object at 0x0000019E33D55160>, type='Polygon', coordinates=[[[28.8730979, -31.0843274], [28.8730979, -26.8046103], [32.8922934, -26.8046103], [32.8922934, -31.0843274], [28.8730979, -31.0843274]]]), attributes={})], centroid=[30.904274336378307, -29.872855899999998], bounding_box=BoundingBox(_api=<tweepy.api.API object at 0x0000019E33D55160>, type='Polygon', coordinates=[[[30.8727422, -29.8995034], [30.8727422, -29.8462084], [30.9359721, -29.8462084], [30.9359721, -29.8995034], [30.8727422, -29.8995034]]]), attributes={})\n",
      "placeid:Place(_api=<tweepy.api.API object at 0x0000019E33D55160>, id='14e368df67f81447', url='https://api.twitter.com/1.1/geo/id/14e368df67f81447.json', place_type='city', name='Queens', full_name='Queens, Nova Scotia', country_code='CA', country='Canada', contained_within=[Place(_api=<tweepy.api.API object at 0x0000019E33D55160>, id='5413d374079cf301', url='https://api.twitter.com/1.1/geo/id/5413d374079cf301.json', place_type='admin', name='Queens', full_name='Queens, Nova Scotia', country_code='CA', country='Canada', centroid=[-64.4974513817011, 43.755995], bounding_box=BoundingBox(_api=<tweepy.api.API object at 0x0000019E33D55160>, type='Polygon', coordinates=[[[-65.396831, 42.974526], [-65.396831, 44.537464], [-63.484666, 44.537464], [-63.484666, 42.974526], [-65.396831, 42.974526]]]), attributes={})], centroid=[-64.4974513817011, 43.755995], bounding_box=BoundingBox(_api=<tweepy.api.API object at 0x0000019E33D55160>, type='Polygon', coordinates=[[[-65.396831, 42.974526], [-65.396831, 44.537464], [-63.484666, 44.537464], [-63.484666, 42.974526], [-65.396831, 42.974526]]]), attributes={})\n",
      "placeid:Place(_api=<tweepy.api.API object at 0x0000019E33D55160>, id='2662e5351fede2ff', url='https://api.twitter.com/1.1/geo/id/2662e5351fede2ff.json', place_type='city', name='North Queensferry', full_name='North Queensferry, Scotland', country_code='GB', country='United Kingdom', contained_within=[Place(_api=<tweepy.api.API object at 0x0000019E33D55160>, id='0af014accd6f6e99', url='https://api.twitter.com/1.1/geo/id/0af014accd6f6e99.json', place_type='admin', name='Scotland', full_name='Scotland, United Kingdom', country_code='GB', country='United Kingdom', centroid=[-3.9115477196392874, 56.652969464269404], bounding_box=BoundingBox(_api=<tweepy.api.API object at 0x0000019E33D55160>, type='Polygon', coordinates=[[[-7.66085699743185, 54.6336309570711], [-7.66085699743185, 60.8452769694519], [-0.740025000483186, 60.8452769694519], [-0.740025000483186, 54.6336309570711], [-7.66085699743185, 54.6336309570711]]]), attributes={})], centroid=[-3.395876938853196, 56.0118935], bounding_box=BoundingBox(_api=<tweepy.api.API object at 0x0000019E33D55160>, type='Polygon', coordinates=[[[-3.403746, 56.006153], [-3.403746, 56.017634], [-3.3873981, 56.017634], [-3.3873981, 56.006153], [-3.403746, 56.006153]]]), attributes={})\n",
      "placeid:Place(_api=<tweepy.api.API object at 0x0000019E33D55160>, id='7e347291be7bbab4', url='https://api.twitter.com/1.1/geo/id/7e347291be7bbab4.json', place_type='admin', name='Queensland', full_name='Queensland, Australia', country_code='AU', country='Australia', contained_within=[Place(_api=<tweepy.api.API object at 0x0000019E33D55160>, id='3f14ce28dc7c4566', url='https://api.twitter.com/1.1/geo/id/3f14ce28dc7c4566.json', place_type='country', name='Australia', full_name='Australia', country_code='AU', country='Australia', centroid=[133.0818431068143, -24.9121415], bounding_box=BoundingBox(_api=<tweepy.api.API object at 0x0000019E33D55160>, type='Polygon', coordinates=[[[112.921114, -43.740482], [112.921114, -9.142176], [159.109219, -9.142176], [159.109219, -43.740482], [112.921114, -43.740482]]]), attributes={})], centroid=[143.04891650821833, -19.9327203406044], bounding_box=BoundingBox(_api=<tweepy.api.API object at 0x0000019E33D55160>, type='Polygon', coordinates=[[[137.99595743193, -29.1778977038344], [137.99595743193, -9.14217597872764], [153.552171234046, -9.14217597872764], [153.552171234046, -29.1778977038344], [137.99595743193, -29.1778977038344]]]), attributes={})\n",
      "placeid:Place(_api=<tweepy.api.API object at 0x0000019E33D55160>, id='bfb04cab2174feb0', url='https://api.twitter.com/1.1/geo/id/bfb04cab2174feb0.json', place_type='admin', name='Queens', full_name='Queens, New Brunswick', country_code='CA', country='Canada', contained_within=[Place(_api=<tweepy.api.API object at 0x0000019E33D55160>, id='969d97b09775c739', url='https://api.twitter.com/1.1/geo/id/969d97b09775c739.json', place_type='admin', name='New Brunswick', full_name='New Brunswick, Canada', country_code='CA', country='Canada', centroid=[-65.92293142601793, 46.3043205], bounding_box=BoundingBox(_api=<tweepy.api.API object at 0x0000019E33D55160>, type='Polygon', coordinates=[[[-69.052647, 44.397161], [-69.052647, 48.21148], [-63.681007, 48.21148], [-63.681007, 44.397161], [-69.052647, 44.397161]]]), attributes={})], centroid=[-66.00896444732163, 45.8246455], bounding_box=BoundingBox(_api=<tweepy.api.API object at 0x0000019E33D55160>, type='Polygon', coordinates=[[[-66.56339, 45.31256], [-66.56339, 46.336731], [-65.342583, 46.336731], [-65.342583, 45.31256], [-66.56339, 45.31256]]]), attributes={})\n",
      "placeid:Place(_api=<tweepy.api.API object at 0x0000019E33D55160>, id='5413d374079cf301', url='https://api.twitter.com/1.1/geo/id/5413d374079cf301.json', place_type='admin', name='Queens', full_name='Queens, Nova Scotia', country_code='CA', country='Canada', contained_within=[Place(_api=<tweepy.api.API object at 0x0000019E33D55160>, id='bb176f7b6355d404', url='https://api.twitter.com/1.1/geo/id/bb176f7b6355d404.json', place_type='admin', name='Nova Scotia', full_name='Nova Scotia, Canada', country_code='CA', country='Canada', centroid=[-61.983437711226394, 45.1405825], bounding_box=BoundingBox(_api=<tweepy.api.API object at 0x0000019E33D55160>, type='Polygon', coordinates=[[[-67.280335, 42.96486], [-67.280335, 47.316305], [-57.841492, 47.316305], [-57.841492, 42.96486], [-67.280335, 42.96486]]]), attributes={})], centroid=[-64.4974513817011, 43.755995], bounding_box=BoundingBox(_api=<tweepy.api.API object at 0x0000019E33D55160>, type='Polygon', coordinates=[[[-65.396831, 42.974526], [-65.396831, 44.537464], [-63.484666, 44.537464], [-63.484666, 42.974526], [-65.396831, 42.974526]]]), attributes={})\n",
      "placeid:Place(_api=<tweepy.api.API object at 0x0000019E33D55160>, id='1306c244fec0d440', url='https://api.twitter.com/1.1/geo/id/1306c244fec0d440.json', place_type='city', name='Queenstown', full_name='Queenstown, MD', country_code='US', country='United States', contained_within=[Place(_api=<tweepy.api.API object at 0x0000019E33D55160>, id='4aeee22292683029', url='https://api.twitter.com/1.1/geo/id/4aeee22292683029.json', place_type='admin', name='BALTIMORE', full_name='BALTIMORE', country_code='', country='', centroid=[-76.76460222854276, 39.150496000000004], bounding_box=BoundingBox(_api=<tweepy.api.API object at 0x0000019E33D55160>, type='Polygon', coordinates=[[[-77.311651, 38.578904], [-77.311651, 39.722088], [-75.707462, 39.722088], [-75.707462, 38.578904], [-77.311651, 38.578904]]]), attributes={})], centroid=[-76.1553787569126, 38.990044], bounding_box=BoundingBox(_api=<tweepy.api.API object at 0x0000019E33D55160>, type='Polygon', coordinates=[[[-76.165128, 38.983724], [-76.165128, 38.995518], [-76.1480356, 38.995518], [-76.1480356, 38.983724], [-76.165128, 38.983724]]]), attributes={})\n",
      "placeid:Place(_api=<tweepy.api.API object at 0x0000019E33D55160>, id='006772b965e04c7d', url='https://api.twitter.com/1.1/geo/id/006772b965e04c7d.json', place_type='city', name='Queenstown', full_name='Queenstown, AL', country_code='US', country='United States', contained_within=[Place(_api=<tweepy.api.API object at 0x0000019E33D55160>, id='3a97518682d3c410', url='https://api.twitter.com/1.1/geo/id/3a97518682d3c410.json', place_type='admin', name='BIRMINGHAM (ANN AND TUSC)', full_name='BIRMINGHAM (ANN AND TUSC)', country_code='', country='', centroid=[-87.0617837997019, 33.503475], bounding_box=BoundingBox(_api=<tweepy.api.API object at 0x0000019E33D55160>, type='Polygon', coordinates=[[[-88.340414, 32.480603], [-88.340414, 34.526347], [-85.398837, 34.526347], [-85.398837, 32.480603], [-88.340414, 32.480603]]]), attributes={})], centroid=[-86.61811603415528, 33.5922645], bounding_box=BoundingBox(_api=<tweepy.api.API object at 0x0000019E33D55160>, type='Polygon', coordinates=[[[-86.628042, 33.586419], [-86.628042, 33.59811], [-86.61037, 33.59811], [-86.61037, 33.586419], [-86.628042, 33.586419]]]), attributes={})\n",
      "placeid:Place(_api=<tweepy.api.API object at 0x0000019E33D55160>, id='019b7c5b04717090', url='https://api.twitter.com/1.1/geo/id/019b7c5b04717090.json', place_type='city', name='Point Lonsdale - Queenscliff', full_name='Point Lonsdale - Queenscliff, Victoria', country_code='AU', country='Australia', contained_within=[Place(_api=<tweepy.api.API object at 0x0000019E33D55160>, id='0ec0c4fcacbd0083', url='https://api.twitter.com/1.1/geo/id/0ec0c4fcacbd0083.json', place_type='admin', name='Victoria', full_name='Victoria, Australia', country_code='AU', country='Australia', centroid=[144.54967312500384, -36.55858281222535], bounding_box=BoundingBox(_api=<tweepy.api.API object at 0x0000019E33D55160>, type='Polygon', coordinates=[[[140.961681976682, -39.1591895298437], [140.961681976682, -33.9804255797424], [149.976679007421, -33.9804255797424], [149.976679007421, -39.1591895298437], [140.961681976682, -39.1591895298437]]]), attributes={})], centroid=[144.67681969998466, -38.2509674365], bounding_box=BoundingBox(_api=<tweepy.api.API object at 0x0000019E33D55160>, type='Polygon', coordinates=[[[144.59060752, -38.292252869], [144.59060752, -38.2375677385], [144.702137472, -38.2375677385], [144.702137472, -38.292252869], [144.59060752, -38.292252869]]]), attributes={})\n",
      "placeid:Place(_api=<tweepy.api.API object at 0x0000019E33D55160>, id='058c47ef289ab610', url='https://api.twitter.com/1.1/geo/id/058c47ef289ab610.json', place_type='city', name='Queensbury', full_name='Queensbury, New Brunswick', country_code='CA', country='Canada', contained_within=[Place(_api=<tweepy.api.API object at 0x0000019E33D55160>, id='01819a735c793596', url='https://api.twitter.com/1.1/geo/id/01819a735c793596.json', place_type='admin', name='Fredericton', full_name='Fredericton', country_code='CA', country='Canada', centroid=[-66.65128603203533, 46.078565], bounding_box=BoundingBox(_api=<tweepy.api.API object at 0x0000019E33D55160>, type='Polygon', coordinates=[[[-67.293982, 45.50128], [-67.293982, 46.65585], [-65.976754, 46.65585], [-65.976754, 45.50128], [-67.293982, 45.50128]]]), attributes={})], centroid=[-67.09853030453145, 45.999069000000006], bounding_box=BoundingBox(_api=<tweepy.api.API object at 0x0000019E33D55160>, type='Polygon', coordinates=[[[-67.226593, 45.875235], [-67.226593, 46.122903], [-66.885873, 46.122903], [-66.885873, 45.875235], [-67.226593, 45.875235]]]), attributes={})\n",
      "placeid:Place(_api=<tweepy.api.API object at 0x0000019E33D55160>, id='3c211fab04c60a58', url='https://api.twitter.com/1.1/geo/id/3c211fab04c60a58.json', place_type='city', name='Queensberry Bay', full_name='Queensberry Bay, South Africa', country_code='ZA', country='South Africa', contained_within=[Place(_api=<tweepy.api.API object at 0x0000019E33D55160>, id='2e584faebb216d70', url='https://api.twitter.com/1.1/geo/id/2e584faebb216d70.json', place_type='admin', name='Eastern Cape', full_name='Eastern Cape', country_code='ZA', country='South Africa', centroid=[26.590669965917435, -32.10777935], bounding_box=BoundingBox(_api=<tweepy.api.API object at 0x0000019E33D55160>, type='Polygon', coordinates=[[[22.7357419, -34.213638], [22.7357419, -30.0019207], [30.1942199, -30.0019207], [30.1942199, -34.213638], [22.7357419, -34.213638]]]), attributes={})], centroid=[28.091792478861223, -32.88479665], bounding_box=BoundingBox(_api=<tweepy.api.API object at 0x0000019E33D55160>, type='Polygon', coordinates=[[[28.0818976, -32.8917159], [28.0818976, -32.8778774], [28.1019602, -32.8778774], [28.1019602, -32.8917159], [28.0818976, -32.8917159]]]), attributes={})\n",
      "placeid:Place(_api=<tweepy.api.API object at 0x0000019E33D55160>, id='012df72174d5c6cd', url='https://api.twitter.com/1.1/geo/id/012df72174d5c6cd.json', place_type='city', name='Queenstown', full_name='Queenstown, Tasmania', country_code='AU', country='Australia', contained_within=[Place(_api=<tweepy.api.API object at 0x0000019E33D55160>, id='190244466eab0860', url='https://api.twitter.com/1.1/geo/id/190244466eab0860.json', place_type='admin', name='Tasmania', full_name='Tasmania, Australia', country_code='AU', country='Australia', centroid=[146.67240357887783, -42.1423394542922], bounding_box=BoundingBox(_api=<tweepy.api.API object at 0x0000019E33D55160>, type='Polygon', coordinates=[[[143.818922731609, -43.7405096002224], [143.818922731609, -39.2036616587427], [148.498673596735, -39.2036616587427], [148.498673596735, -43.7405096002224], [143.818922731609, -43.7405096002224]]]), attributes={})], centroid=[145.54640030122425, -42.08728708225], bounding_box=BoundingBox(_api=<tweepy.api.API object at 0x0000019E33D55160>, type='Polygon', coordinates=[[[145.531578016, -42.105916499], [145.531578016, -42.0686576655], [145.567932992, -42.0686576655], [145.567932992, -42.105916499], [145.531578016, -42.105916499]]]), attributes={})\n"
     ]
    }
   ],
   "source": [
    "for place in Queens:    \n",
    "    print(\"placeid:%s\" % place)"
   ]
  },
  {
   "cell_type": "code",
   "execution_count": 14,
   "metadata": {},
   "outputs": [
    {
     "data": {
      "text/plain": [
       "{'/geo/similar_places': {'limit': 15, 'remaining': 15, 'reset': 1576456538},\n",
       " '/geo/place_page': {'limit': 75, 'remaining': 75, 'reset': 1576456538},\n",
       " '/geo/id/:place_id': {'limit': 75, 'remaining': 75, 'reset': 1576456538},\n",
       " '/geo/reverse_geocode': {'limit': 15, 'remaining': 15, 'reset': 1576456538},\n",
       " '/geo/search': {'limit': 15, 'remaining': 13, 'reset': 1576456530}}"
      ]
     },
     "execution_count": 14,
     "metadata": {},
     "output_type": "execute_result"
    }
   ],
   "source": [
    "limit = api.rate_limit_status()\n",
    "limit['resources']['geo']"
   ]
  },
  {
   "cell_type": "code",
   "execution_count": null,
   "metadata": {},
   "outputs": [],
   "source": [
    "Brooklyn_query = tw.Cursor(api.search, q='-filter:retweets' + \"place:%s\" % '27485069891a7938', lang=\"en\", tweet_mode=\"extended\").items(1000)"
   ]
  },
  {
   "cell_type": "code",
   "execution_count": null,
   "metadata": {},
   "outputs": [],
   "source": [
    "Queens_query = tw.Cursor(api.search, q='-filter:retweets' + \"place:%s\" % '00c39537733fa112', lang=\"en\", tweet_mode=\"extended\").items(1000)"
   ]
  },
  {
   "cell_type": "code",
   "execution_count": null,
   "metadata": {},
   "outputs": [],
   "source": [
    "Brooklyn_tweets = [tweet for tweet in Brooklyn_query]"
   ]
  },
  {
   "cell_type": "code",
   "execution_count": null,
   "metadata": {},
   "outputs": [],
   "source": [
    "sleep(900)"
   ]
  },
  {
   "cell_type": "code",
   "execution_count": null,
   "metadata": {
    "scrolled": false
   },
   "outputs": [],
   "source": [
    "Queens_tweets = [tweet for tweet in Queens_query]"
   ]
  },
  {
   "cell_type": "code",
   "execution_count": null,
   "metadata": {},
   "outputs": [],
   "source": [
    "Brooklyn_Queens_tweets = Brooklyn_tweets + Queens_tweets"
   ]
  },
  {
   "cell_type": "code",
   "execution_count": null,
   "metadata": {},
   "outputs": [],
   "source": [
    "Tweet_database = pd.DataFrame()"
   ]
  },
  {
   "cell_type": "code",
   "execution_count": null,
   "metadata": {},
   "outputs": [],
   "source": [
    "Tweet_database['text'] = [tweet.full_text for tweet in Brooklyn_Queens_tweets]\n",
    "Tweet_database['created_time'] = [tweet.created_at for tweet in Brooklyn_Queens_tweets]"
   ]
  },
  {
   "cell_type": "code",
   "execution_count": null,
   "metadata": {},
   "outputs": [],
   "source": [
    "Tweet_database.reset_index().to_csv('E:\\\\MUSA 620 Term Project\\\\AllTweets_121119.csv', index = False)"
   ]
  },
  {
   "cell_type": "code",
   "execution_count": 51,
   "metadata": {},
   "outputs": [],
   "source": [
    "def remove_username(txt):\n",
    "    import re\n",
    "    return \" \".join(re.sub('@[^\\s]+','',txt).split())\n",
    "\n",
    "def remove_url(txt):\n",
    "    \"\"\"\n",
    "    Replace URLs found in a text string with nothing \n",
    "    (i.e. it will remove the URL from the string).\n",
    "\n",
    "    Parameters\n",
    "    ----------\n",
    "    txt : string\n",
    "        A text string that you want to parse and remove urls.\n",
    "\n",
    "    Returns\n",
    "    -------\n",
    "    The same txt string with url's removed.\n",
    "    \"\"\"\n",
    "    import re\n",
    "    return \" \".join(re.sub(\"https://t.co/[A-Za-z\\\\d]+|&amp\", \"\", txt).split())"
   ]
  },
  {
   "cell_type": "code",
   "execution_count": 52,
   "metadata": {},
   "outputs": [],
   "source": [
    "Tweet_120819= pd.read_csv('E:\\\\MUSA 620 Term Project\\\\AllTweets_120819.csv')"
   ]
  },
  {
   "cell_type": "code",
   "execution_count": 53,
   "metadata": {},
   "outputs": [],
   "source": [
    "Tweet_120919 = pd.read_csv('E:\\\\MUSA 620 Term Project\\\\AllTweets_120919.csv')"
   ]
  },
  {
   "cell_type": "code",
   "execution_count": 54,
   "metadata": {},
   "outputs": [],
   "source": [
    "Tweet_121019 = pd.read_csv('E:\\\\MUSA 620 Term Project\\\\AllTweets_121019.csv')"
   ]
  },
  {
   "cell_type": "code",
   "execution_count": 55,
   "metadata": {},
   "outputs": [],
   "source": [
    "Tweet_121119 = pd.read_csv('E:\\\\MUSA 620 Term Project\\\\AllTweets_121119.csv')"
   ]
  },
  {
   "cell_type": "code",
   "execution_count": 56,
   "metadata": {},
   "outputs": [],
   "source": [
    "Tweet_text = pd.concat([Tweet_120819, Tweet_120919, Tweet_121019, Tweet_121119])"
   ]
  },
  {
   "cell_type": "code",
   "execution_count": 57,
   "metadata": {},
   "outputs": [],
   "source": [
    "Tweet_text = Tweet_text['text']"
   ]
  },
  {
   "cell_type": "code",
   "execution_count": 58,
   "metadata": {},
   "outputs": [
    {
     "data": {
      "text/plain": [
       "['RT Check out the new character posters from #WW84 - in theaters June 5.',\n",
       " 'RT I can’t even begin to thank enough for giving me the most amazing night of my entire life✨I will treasure these me…',\n",
       " 'Shit is so unreal',\n",
       " 'Peter went to court. He told the court that Stanislaus was the owner of the land. Peter yelled at his children. Asked if he wanted to stay alive? Nope. The townspeople went with Peter back to cemetery... I like miracle stories.',\n",
       " 'The magic school bus is just Astrotrain’s postwar side job.']"
      ]
     },
     "execution_count": 58,
     "metadata": {},
     "output_type": "execute_result"
    }
   ],
   "source": [
    "tweets_no_urls = [remove_url(tweet) for tweet in Tweet_text]\n",
    "tweets_no_urls = [remove_username(tweet) for tweet in tweets_no_urls]\n",
    "tweets_no_urls[:5]"
   ]
  },
  {
   "cell_type": "code",
   "execution_count": 59,
   "metadata": {},
   "outputs": [],
   "source": [
    "tweets_food = [tweet for tweet in tweets_no_urls if any(food.lower() in tweet.split() for food in list_food) or any(food.upper() in tweet.split() for food in list_food)]"
   ]
  },
  {
   "cell_type": "code",
   "execution_count": 60,
   "metadata": {},
   "outputs": [],
   "source": [
    "blobs = [textblob.TextBlob(t) for t in tweets_food]"
   ]
  },
  {
   "cell_type": "code",
   "execution_count": 61,
   "metadata": {},
   "outputs": [],
   "source": [
    "data = {}\n",
    "data['polarity'] = [b.sentiment.polarity for b in blobs]\n",
    "data['subjectivity'] = [b.sentiment.subjectivity for b in blobs]\n",
    "data['text'] = [t for t in tweets_food]\n",
    "data = pd.DataFrame(data)"
   ]
  },
  {
   "cell_type": "code",
   "execution_count": 67,
   "metadata": {},
   "outputs": [],
   "source": [
    "category = []"
   ]
  },
  {
   "cell_type": "code",
   "execution_count": 68,
   "metadata": {},
   "outputs": [],
   "source": [
    "for tweet in tweets_food:\n",
    "    if any(food.lower() in tweet.split() for food in healthy_unique):\n",
    "        category.append('healthy')\n",
    "    elif any(food.lower() in tweet.split() for food in unhealthy_unique):\n",
    "        category.append('unhealthy')\n",
    "    else:\n",
    "        category.append('neutral')"
   ]
  },
  {
   "cell_type": "code",
   "execution_count": 69,
   "metadata": {},
   "outputs": [],
   "source": [
    "data['category'] = category"
   ]
  },
  {
   "cell_type": "code",
   "execution_count": 72,
   "metadata": {},
   "outputs": [],
   "source": [
    "data.to_csv('Data\\\\sentiment_output.csv', index = False)"
   ]
  },
  {
   "cell_type": "code",
   "execution_count": 74,
   "metadata": {},
   "outputs": [
    {
     "data": {
      "application/javascript": [
       "const spec = {\"config\": {\"view\": {\"width\": 400, \"height\": 300}, \"mark\": {\"tooltip\": null}}, \"vconcat\": [{\"mark\": \"point\", \"encoding\": {\"color\": {\"condition\": {\"type\": \"nominal\", \"field\": \"category\", \"selection\": \"selector004\"}, \"value\": \"grey\"}, \"x\": {\"type\": \"quantitative\", \"field\": \"subjectivity\"}, \"y\": {\"type\": \"quantitative\", \"field\": \"polarity\"}}, \"selection\": {\"selector004\": {\"type\": \"interval\"}}}, {\"mark\": \"bar\", \"encoding\": {\"color\": {\"type\": \"nominal\", \"field\": \"category\"}, \"x\": {\"type\": \"quantitative\", \"aggregate\": \"count\", \"field\": \"category\"}, \"y\": {\"type\": \"nominal\", \"field\": \"category\"}}, \"transform\": [{\"filter\": {\"selection\": \"selector004\"}}]}], \"data\": {\"name\": \"data-a000349799e24a41a6bc75fa2b7258b2\"}, \"$schema\": \"https://vega.github.io/schema/vega-lite/v3.4.0.json\", \"datasets\": {\"data-a000349799e24a41a6bc75fa2b7258b2\": [{\"polarity\": 0.3294270833333333, \"subjectivity\": 0.5055555555555555, \"text\": \"RT YES honey!!! Ms. . let em have it at last night\\u2019s HOT CHOCOLATE NUTCRACKER Gala!!! Love yo\\u2026\", \"category\": \"neutral\"}, {\"polarity\": 0.0, \"subjectivity\": 0.1, \"text\": \"RT i remember when my ex boyfriend and i got into an actual fight at cheesecake factory in 2016, he literally looked me in the e\\u2026\", \"category\": \"unhealthy\"}, {\"polarity\": 0.9, \"subjectivity\": 0.65, \"text\": \"Proud to have driven kids into poverty. Millions suffering in work poverty,explosion of food banks. One nation Tories at their best.\", \"category\": \"neutral\"}, {\"polarity\": 0.0, \"subjectivity\": 0.0, \"text\": \"RT You ever stroked a baby duck to sleep?\", \"category\": \"healthy\"}, {\"polarity\": 0.6, \"subjectivity\": 0.8, \"text\": \"RT Broke: Buying a banana taped to a wall for $120,000 Woke: Eating said banana after it was sold, effectively eating a $120,\\u2026\", \"category\": \"healthy\"}, {\"polarity\": -0.16666666666666666, \"subjectivity\": 0.43333333333333335, \"text\": \"RT Yet if I duct tape a banana to a black student\\u2019s dormroom door I get 10 years\", \"category\": \"healthy\"}, {\"polarity\": -0.10833333333333332, \"subjectivity\": 0.5, \"text\": \"Not been to Norwich for a few seasons. Weird bunch. We all know VAR is a load of bollocks but watching a bunch of turnip picking Tory bastards protest against it politely is bizarre. Long drive. Worth every tractor overtaking mile. Up the fucking Blades \\u2694\\ufe0f #sufc #twitterblades\", \"category\": \"healthy\"}, {\"polarity\": 0.0, \"subjectivity\": 0.0, \"text\": \"Now it\\u2019s juice wrld\\ud83e\\udd7a\", \"category\": \"unhealthy\"}, {\"polarity\": -0.06000000000000001, \"subjectivity\": 0.6, \"text\": \"one million different food allergies\\u2014to American food. But I survived b/c I understand my body ; my genetics. It isn\\u2019t fair to those in need to be stricter. Jesus isn\\u2019t a jerk. And cutting benefits will be something he punishes people for\\u2014attacking the poor is an attack on God.\", \"category\": \"neutral\"}, {\"polarity\": 0.0, \"subjectivity\": 0.0, \"text\": \"RT juice wrld dying form a seizure weeks after the tik tok trend where ppl pretend to have a seizure to one of his songs is so\\u2026\", \"category\": \"unhealthy\"}, {\"polarity\": 0.3181818181818182, \"subjectivity\": 0.4772727272727273, \"text\": \"RT A new Trump rule will reduce government food safety inspectors in pork plants by 40% and remove most of the remaining\\u2026\", \"category\": \"healthy\"}, {\"polarity\": -0.75, \"subjectivity\": 0.8, \"text\": \"RT RIP JUICE U FUCKING LEGEND !\", \"category\": \"neutral\"}, {\"polarity\": 0.45, \"subjectivity\": 0.6, \"text\": \"RT Not so much an oath as in fealty to Their Beloved God. And all of them are in line to lick his orange butt.\\u2026\", \"category\": \"healthy\"}, {\"polarity\": 0.025, \"subjectivity\": 0.3666666666666667, \"text\": \"RT Today marks my first year as a food illustrator. I started out with maybe 50 or so followers on this dead account. Neari\\u2026\", \"category\": \"neutral\"}, {\"polarity\": 0.0, \"subjectivity\": 0.0, \"text\": \"PERIOD. What\\u2019s a girl gotta do to get some Wisconsin cheese bites?!\", \"category\": \"unhealthy\"}, {\"polarity\": 0.0, \"subjectivity\": 0.0, \"text\": \"RT Waiting patiently for dinner\", \"category\": \"neutral\"}, {\"polarity\": 0.0, \"subjectivity\": 0.0, \"text\": \"RT Give us juice WRLD back take Russ instead\", \"category\": \"unhealthy\"}, {\"polarity\": 0.0, \"subjectivity\": 0.0, \"text\": \"RT Speedy toe beans\", \"category\": \"healthy\"}, {\"polarity\": -0.13333333333333333, \"subjectivity\": 0.7333333333333334, \"text\": \"RT this sad as fuck rest in love juice wrld \\ud83c\\udfc6\", \"category\": \"unhealthy\"}, {\"polarity\": 0.2, \"subjectivity\": 0.2, \"text\": \"RT juice wrld died from a seizure and people made these about a month ago... that\\u2019s really concerning.\", \"category\": \"unhealthy\"}, {\"polarity\": 0.2, \"subjectivity\": 0.2, \"text\": \"RT juice wrld died from a seizure and people made these about a month ago... that\\u2019s really concerning.\", \"category\": \"unhealthy\"}, {\"polarity\": 0.0, \"subjectivity\": 0.0, \"text\": \"even that kitchen thing in the back is orange \\ud83d\\ude0d\\ud83d\\ude0d\\ud83d\\ude0d\\ud83d\\ude0d\\ud83d\\ude0d\\ud83d\\ude0d\\ud83d\\ude0d\\ud83d\\ude0d\\ud83d\\ude0d\", \"category\": \"healthy\"}, {\"polarity\": -0.35000000000000003, \"subjectivity\": 0.7333333333333334, \"text\": \"RT lil peep died at 21. xxxtentacion died at 20. juice wrld died at 21. bruh dis shit been rough :(\", \"category\": \"unhealthy\"}, {\"polarity\": 0.06944444444444442, \"subjectivity\": 0.3472222222222221, \"text\": \"RT So many citizens in #Venezuela resort to trash for their daily meals that even the contaminated food is hard to come by. U\\u2026\", \"category\": \"neutral\"}, {\"polarity\": 0.0, \"subjectivity\": 0.0, \"text\": \"RT LEGENDS ON REPLAY ALL DAY TODAY RIP JUICE WRLD \\ud83d\\ude1e\\ud83d\\ude4f\\ud83c\\udffb\", \"category\": \"neutral\"}, {\"polarity\": 0.125, \"subjectivity\": 0.625, \"text\": \"RT It\\u2019s Sunday Morning.. Your significant other deserves Shrimp ; Grits (with jumbo lump crab meat) \\ud83d\\udd25\\ud83d\\udd25 \\u2026\", \"category\": \"healthy\"}, {\"polarity\": -0.5, \"subjectivity\": 1.0, \"text\": \"RT omg i wake up to juice wrld passing away ????????? wtf man omg\\ud83e\\udd7a\\ud83e\\udd7a\\ud83e\\udd7a\\ud83e\\udd7a\\ud83e\\udd7a\\ud83e\\udd7a\\ud83e\\udd7a\\ud83d\\udc94\\ud83d\\udc94\\ud83d\\udc94\\ud83d\\udc94\\ud83d\\udc94\", \"category\": \"unhealthy\"}, {\"polarity\": 0.0, \"subjectivity\": 0.5, \"text\": \"RT the shape of pasta definitely changes the taste idc\", \"category\": \"unhealthy\"}, {\"polarity\": 0.3181818181818182, \"subjectivity\": 0.5272727272727272, \"text\": \"New post from at #OccamT: If music be the food of love, rock on\", \"category\": \"neutral\"}, {\"polarity\": -0.75, \"subjectivity\": 1.0, \"text\": \"RT 2017 - we lost peep 2018 - we lost x 2019 - we lost juice all legends who passed away too soon :(\", \"category\": \"unhealthy\"}, {\"polarity\": -0.15, \"subjectivity\": 0.6666666666666666, \"text\": \"RT I'm ugly, but: 1. I text back in 3sec 2. I'm funny 3. I'll buy you food\", \"category\": \"neutral\"}, {\"polarity\": 0.0, \"subjectivity\": 0.0, \"text\": \"RT Me singing this song now that juice WRLD died\", \"category\": \"unhealthy\"}, {\"polarity\": 0.4, \"subjectivity\": 0.4944444444444444, \"text\": \"RT Oh sure, when the banana duct-tapes itself to a wall it\\u2019s \\u201ca work of art\\u201d and \\u201cworth $120,000\\u201d but when I do it suddenly\\u2026\", \"category\": \"healthy\"}, {\"polarity\": 0.1, \"subjectivity\": 1.0, \"text\": \"RT Wow, I can not believe this. Rip my brother juice world \\ud83d\\ude2d\\ud83d\\ude2d\\ud83d\\ude2d\", \"category\": \"unhealthy\"}, {\"polarity\": 0.0, \"subjectivity\": 0.0, \"text\": \"RT rip JUICE WRLD \\ud83d\\udc94\", \"category\": \"neutral\"}, {\"polarity\": 0.0, \"subjectivity\": 0.0, \"text\": \"stream lights up, watermelon sugar and adore you xx\", \"category\": \"healthy\"}, {\"polarity\": -0.39583333333333337, \"subjectivity\": 0.6666666666666666, \"text\": \"RT Sweets got nasty as I got older. Where the food at!?\", \"category\": \"neutral\"}, {\"polarity\": 0.0, \"subjectivity\": 0.0, \"text\": \"he hasn\\u2019t texted you back but posted an instagram story about juice world. just give up!\", \"category\": \"unhealthy\"}, {\"polarity\": -0.2, \"subjectivity\": 0.2, \"text\": \"RT If you can\\u2019t afford your insulin, have trouble paying for your kids school supplies, or just had food stamps cut so now\\u2026\", \"category\": \"neutral\"}, {\"polarity\": 0.0, \"subjectivity\": 0.0, \"text\": \"I smell cap in juice wrld\\u2019s death..\", \"category\": \"unhealthy\"}, {\"polarity\": 0.0, \"subjectivity\": 0.0, \"text\": \"RT RIP JUICE\", \"category\": \"neutral\"}, {\"polarity\": -0.10714285714285716, \"subjectivity\": 0.7678571428571428, \"text\": \"RT so sad today... this isn\\u2019t right rip juice wrld \\ud83d\\udc94\", \"category\": \"unhealthy\"}, {\"polarity\": 0.09444444444444444, \"subjectivity\": 0.37222222222222223, \"text\": \"RT If Republicans were willing to scrutinize billionaires *half* as much as they scrutinize people on food stamps, this country would\\u2026\", \"category\": \"neutral\"}, {\"polarity\": 0.0, \"subjectivity\": 0.125, \"text\": \"Rip JUICE WRLD I feel the same bro\", \"category\": \"neutral\"}, {\"polarity\": 0.0, \"subjectivity\": 0.0, \"text\": \"Going to Disney with my bestie \\ud83d\\ude0d\\ud83d\\udc95 hehe can\\u2019t wait to see all the lights and try tasty food\", \"category\": \"neutral\"}, {\"polarity\": 0.0, \"subjectivity\": 0.0, \"text\": \"rip juice wrld\\ud83d\\ude14\", \"category\": \"unhealthy\"}, {\"polarity\": -0.08333333333333333, \"subjectivity\": 0.6296296296296297, \"text\": \"RT Me: Do you like food Uber driver: Sure Me: [pulling all of the spaghetti out of my pockets that I was saving for later but I\\u2026\", \"category\": \"neutral\"}, {\"polarity\": 0.0, \"subjectivity\": 0.0, \"text\": \"RT Nigga was dancing like mom made pizza rolls\", \"category\": \"unhealthy\"}, {\"polarity\": -0.5, \"subjectivity\": 1.0, \"text\": \"Sad day juice wrld and saints loss..\", \"category\": \"unhealthy\"}, {\"polarity\": 0.0, \"subjectivity\": 0.0, \"text\": \"RT rip juice you were like a brother to me\", \"category\": \"unhealthy\"}, {\"polarity\": 0.0, \"subjectivity\": 0.0, \"text\": \"RT rip JUICE WRLD \\ud83d\\udc94\", \"category\": \"neutral\"}, {\"polarity\": 0.0, \"subjectivity\": 0.0, \"text\": \"RT lizzo - juice (2019)\", \"category\": \"unhealthy\"}, {\"polarity\": 0.2857142857142857, \"subjectivity\": 0.5357142857142857, \"text\": \"RT reading juice wrld died right after waking up\", \"category\": \"unhealthy\"}, {\"polarity\": 0.7, \"subjectivity\": 0.95, \"text\": \"A chopped beef filled baked potato from Pappas sounds perfect rn\", \"category\": \"healthy\"}, {\"polarity\": 0.0, \"subjectivity\": 0.0, \"text\": \"RT Day 9738272 without yoongi: my hair fell out, my fish ran away, and all my spoons were stolen so now I have to eat my ce\\u2026\", \"category\": \"unhealthy\"}, {\"polarity\": 0.0, \"subjectivity\": 0.0, \"text\": \"RT how tf am i supposed to give jun his animal waffle maker now \\ud83d\\udeb6\\ud83c\\udffb\\u200d\\u2642\\ufe0f\", \"category\": \"unhealthy\"}, {\"polarity\": 0.0, \"subjectivity\": 0.0, \"text\": \"RT juice wrld just had a seizure because of his addiction to percs/lean which is literally heroin. yet you nigga will still g\\u2026\", \"category\": \"unhealthy\"}, {\"polarity\": 0.0, \"subjectivity\": 0.0, \"text\": \"RT rip JUICE WRLD \\ud83d\\udc94\", \"category\": \"neutral\"}, {\"polarity\": 0.2857142857142857, \"subjectivity\": 0.5357142857142857, \"text\": \"We eat banana bread by the loaf, right?\", \"category\": \"healthy\"}, {\"polarity\": 0.85, \"subjectivity\": 1.0, \"text\": \"RT j.i.d paying tribute to juice wrld tonight was beautiful #RIPJUICEWRLD\", \"category\": \"unhealthy\"}, {\"polarity\": 0.35, \"subjectivity\": 0.55, \"text\": \"RT This generation is full of fish that want to be applauded for swimming \\ud83e\\udd74\", \"category\": \"unhealthy\"}, {\"polarity\": 0.0, \"subjectivity\": 0.0, \"text\": \"rip juice world. idk how an amusement park can die or why it would be juice themed, but rip anyways \\ud83d\\ude4f\", \"category\": \"unhealthy\"}, {\"polarity\": 0.0, \"subjectivity\": 0.0, \"text\": \"RT I want boiling crab \\ud83d\\ude1e\", \"category\": \"healthy\"}, {\"polarity\": 0.0, \"subjectivity\": 0.0, \"text\": \"come get yall juice\", \"category\": \"unhealthy\"}, {\"polarity\": 0.0, \"subjectivity\": 0.0, \"text\": \"RT I know there\\u2019s a video out of me getting jumped, everyone in the pizza shop literally just watched, with their phones ou\\u2026\", \"category\": \"unhealthy\"}, {\"polarity\": 0.25, \"subjectivity\": 0.3333333333333333, \"text\": \"first and foremost: the girl i (kinda) like asked for my number so we could meet and sit together at lunch BUT my delusional ass thinks we might have a chance\", \"category\": \"neutral\"}, {\"polarity\": 0.0, \"subjectivity\": 0.0, \"text\": \"RT Frankly, when I look at this impeachment, I see a banana taped to a wall. As others coo over the power and evidence in\\u2026\", \"category\": \"healthy\"}, {\"polarity\": 0.5166666666666666, \"subjectivity\": 0.5, \"text\": \"RT Ooooo sour cream and onion dip is sooo good. I always loved artichoke too!! Uhh should of went with chip\\u2026\", \"category\": \"healthy\"}, {\"polarity\": 0.2333333333333333, \"subjectivity\": 0.20000000000000004, \"text\": \"\\\"A good place to start may be to engage with the American Dental Association on a local or national level. There might be opportunities to educate ADA members at association meetings and seminars about the role IHs can play in helping protect workers in the dental industry.\\\"\", \"category\": \"neutral\"}, {\"polarity\": 0.35, \"subjectivity\": 0.55, \"text\": \"RT This generation is full of fish that want to be applauded for swimming \\ud83e\\udd74\", \"category\": \"unhealthy\"}, {\"polarity\": 0.0, \"subjectivity\": 0.0, \"text\": \"RT Lil breakfast today, I\\u2019m STARVING\", \"category\": \"neutral\"}, {\"polarity\": -0.2, \"subjectivity\": 0.8, \"text\": \"my eggs be on some hoe shit\", \"category\": \"healthy\"}, {\"polarity\": 0.0, \"subjectivity\": 0.18888888888888888, \"text\": \"RT taman tasik titiwangsa is open back to public this sunday 15th dec \\ud83d\\ude31\\ud83d\\ude31\\ud83d\\ude31 siap ada swimming pool, fancy jogging trails cant w\\u2026\", \"category\": \"unhealthy\"}, {\"polarity\": 0.0, \"subjectivity\": 0.0, \"text\": \"oh tea \\ud83d\\ude0f\", \"category\": \"unhealthy\"}, {\"polarity\": 0.390625, \"subjectivity\": 0.8500000000000001, \"text\": \"RT Can\\u2019t wait to drink hot chocolate and wear this pullover!! \\ud83c\\udf84:\", \"category\": \"unhealthy\"}, {\"polarity\": 0.4, \"subjectivity\": 0.325, \"text\": \"RT You chose Epic Sax Guy as the best meme of 2010! (Ignore the blue in the pie chart someone just bot voted for Ok Boomer over\\u2026\", \"category\": \"unhealthy\"}, {\"polarity\": -0.6, \"subjectivity\": 0.95, \"text\": \"RT Someone needs to take Mayuri from Steins;Gate to Popeyes and get her that chicken sandwich.\", \"category\": \"healthy\"}, {\"polarity\": -0.05, \"subjectivity\": 0.3, \"text\": \"RT PM post to Anwar NEXT Dec - Dr.M ada 12 bln lagi, macam2 boleh jadi i still dont believe it, NOT 4a Sec i know my boss\\u2026\", \"category\": \"unhealthy\"}, {\"polarity\": 0.3125, \"subjectivity\": 0.2, \"text\": \"I\\u2019ll try but already drank two cups of coffee \\ud83d\\ude2a\\ud83d\\ude2a but thank you so much!!\", \"category\": \"unhealthy\"}, {\"polarity\": 0.0, \"subjectivity\": 0.0, \"text\": \"RT just squeeeeeeeeeeeeezing in 2-3 hours of uninterrupted staring at my phone before bed. might even google a recipe I h\\u2026\", \"category\": \"neutral\"}, {\"polarity\": -0.30000000000000004, \"subjectivity\": 0.7, \"text\": \"RT Cats always be doing this fuck shit lmfaooo like why must your touch my food \\ud83d\\ude2d\\ud83d\\ude02\\ud83d\\ude02\", \"category\": \"neutral\"}, {\"polarity\": 0.0, \"subjectivity\": 0.0, \"text\": \"RT LOOK AT THIS CAT MAKING A COOKIE IM SCREAMING SO CUTEE\", \"category\": \"neutral\"}, {\"polarity\": -0.6, \"subjectivity\": 0.95, \"text\": \"I gotcha chicken sandwich \\ud83d\\ude2d\", \"category\": \"healthy\"}, {\"polarity\": -0.28214285714285714, \"subjectivity\": 0.5821428571428571, \"text\": \"RT taekook watching together their chicken noodle soup dance cover with not a single space in between them. \\u2026\", \"category\": \"healthy\"}, {\"polarity\": -0.1, \"subjectivity\": 0.05, \"text\": \"you're the one with red sprinkles every few days a month too hehe xxx\", \"category\": \"unhealthy\"}, {\"polarity\": -0.4333333333333333, \"subjectivity\": 0.6833333333333332, \"text\": \"RT if u see me comparing hand sizes over dinner with someone ugly mind your business. its getting cold outside\", \"category\": \"neutral\"}, {\"polarity\": 0.0, \"subjectivity\": 0.0, \"text\": \"RT Picturer: Stefan inside your fallopian tubes trying to save your eggs\", \"category\": \"healthy\"}, {\"polarity\": -0.4, \"subjectivity\": 0.6, \"text\": \"I ACCIDENTALLY TEXTED LIZ DUCK INSTEAD OF FUCK\", \"category\": \"neutral\"}, {\"polarity\": 0.2833333333333333, \"subjectivity\": 0.575, \"text\": \"Fine, I'll quit this pineapple on pizza addiction and eat a normal pizza.\", \"category\": \"healthy\"}, {\"polarity\": 0.0625, \"subjectivity\": 0.5, \"text\": \"i have major tea i can not wait until my gf wakes up omfg\", \"category\": \"unhealthy\"}, {\"polarity\": 0.0, \"subjectivity\": 0.0, \"text\": \"RT #ad Give your oven a break this holiday with a dessert that doesn\\u2019t require heat! --&gt; \\ud83c\\udf52Creamy No-Bake Vanilla Cherry Chee\\u2026\", \"category\": \"neutral\"}, {\"polarity\": 0.6, \"subjectivity\": 0.9, \"text\": \"I\\u2019m honestly about to release a memoir of all the garbage things that my garbage ex did to me the world deserves this TEA\", \"category\": \"neutral\"}, {\"polarity\": -0.18333333333333326, \"subjectivity\": 0.8666666666666667, \"text\": \"Hate their coffee so it is easy for me to stay away\", \"category\": \"unhealthy\"}, {\"polarity\": -0.30000000000000004, \"subjectivity\": 0.7, \"text\": \"RT Cats always be doing this fuck shit lmfaooo like why must your touch my food \\ud83d\\ude2d\\ud83d\\ude02\\ud83d\\ude02\", \"category\": \"neutral\"}, {\"polarity\": 0.4, \"subjectivity\": 0.65, \"text\": \"Cooked myself real food for once. Feels nice\", \"category\": \"neutral\"}, {\"polarity\": -0.55, \"subjectivity\": 0.725, \"text\": \"RT hoseok was shy and embarrased but taehyung still called out jimin to do the CHICKEN NOODLE SOUP CHALLENGE \\ud83d\\ude2d \\u2026\", \"category\": \"neutral\"}, {\"polarity\": -0.30000000000000004, \"subjectivity\": 0.7, \"text\": \"RT Cats always be doing this fuck shit lmfaooo like why must your touch my food \\ud83d\\ude2d\\ud83d\\ude02\\ud83d\\ude02\", \"category\": \"neutral\"}, {\"polarity\": 0.0, \"subjectivity\": 0.0, \"text\": \"Meanwhile I reading this and eating popcorn \\ud83c\\udf7f\", \"category\": \"healthy\"}, {\"polarity\": 0.2369791666666667, \"subjectivity\": 0.2833333333333333, \"text\": \"DO TELL TRUDEAU, why less and less food grown in Canada when we did more and more ??? Bid now ! Help create jobs FOR Canadians !\", \"category\": \"neutral\"}, {\"polarity\": 0.225, \"subjectivity\": 0.875, \"text\": \"The holy trinity of comfort food; pot roast, roasted garlic/ranch/Parmesan mashed potatoes and gravy. It gets just cold enough here that this is perfect eaten in front of a propane heater on our patio :-) @ Smith\\u2026\", \"category\": \"healthy\"}, {\"polarity\": 0.09475308641975308, \"subjectivity\": 0.4774691358024692, \"text\": \"Most definitely. Do your own due diligence with everything. If you really start to go down the rabbit hole of black history. You\\u2019ll see all that they\\u2019ve never told us. You\\u2019ll start to ask why, what\\u2019s the purpose? As you said especially all the parts that\\u2019s American history.\", \"category\": \"healthy\"}, {\"polarity\": 0.0, \"subjectivity\": 1.0, \"text\": \"Especially that Christmas song. You should send this in the beef jerkey segment\", \"category\": \"healthy\"}, {\"polarity\": 0.25, \"subjectivity\": 0.8500000000000001, \"text\": \"RT Look I need hot chocolate anyway I can even if it's with hot water\", \"category\": \"unhealthy\"}, {\"polarity\": 0.2090909090909091, \"subjectivity\": 0.5636363636363637, \"text\": \"real tea we just need a new and better video sharing website, that\\u2019s it tbh we only stick around bc of nostalgia #youtubeisoverparty\", \"category\": \"unhealthy\"}, {\"polarity\": 0.0, \"subjectivity\": 0.0, \"text\": \"RT Two mice having a fight at the London subway (Photo: Sam Rowley)\", \"category\": \"neutral\"}, {\"polarity\": 0.08522727272727272, \"subjectivity\": 0.4772727272727273, \"text\": \"RT Thank you UK for making our show such a HIT!!! I\\u2019m coming over for tea in the new year!\", \"category\": \"unhealthy\"}, {\"polarity\": 0.55, \"subjectivity\": 0.75, \"text\": \"RT I love that kind of friendship yang both of you tak selalu contact but kalau ada problem or need some to talk you have eac\\u2026\", \"category\": \"unhealthy\"}, {\"polarity\": 0.0, \"subjectivity\": 0.0, \"text\": \"Finna make some shrimp then to bed I go.\", \"category\": \"healthy\"}, {\"polarity\": 0.2, \"subjectivity\": 0.2, \"text\": \"Damn juice really gone\", \"category\": \"unhealthy\"}, {\"polarity\": 0.0, \"subjectivity\": 0.0, \"text\": \"Jermaine is the brother than left a corner of orange juice in the fridge.\", \"category\": \"healthy\"}, {\"polarity\": 0.0, \"subjectivity\": 0.6, \"text\": \"RT There are two different ways to make pizza\", \"category\": \"unhealthy\"}, {\"polarity\": 0.6125, \"subjectivity\": 1.0, \"text\": \"RT Having your own bread as a woman is so important!!\", \"category\": \"unhealthy\"}, {\"polarity\": 0.6125, \"subjectivity\": 1.0, \"text\": \"RT Having your own bread as a woman is so important!!\", \"category\": \"unhealthy\"}, {\"polarity\": 0.0, \"subjectivity\": 0.0, \"text\": \"RT The holidays are a time of giving! Who would you share some lunch with at Myron Mixon's? Tag them below! Then bring th\\u2026\", \"category\": \"neutral\"}, {\"polarity\": 0.0, \"subjectivity\": 0.0, \"text\": \"I was just going to say, I had those orange tracks all around the basement\", \"category\": \"healthy\"}, {\"polarity\": 0.21103896103896105, \"subjectivity\": 0.5178571428571428, \"text\": \"Hello?? You do live in this country right? We're working two and three jobs just to keep the lights on and food on the table as they continue to raise prices lower wages and increase healthcare costs. When? When would you like us to take to the streets? After our babies die?\", \"category\": \"neutral\"}, {\"polarity\": 0.3333333333333333, \"subjectivity\": 0.3666666666666667, \"text\": \"RT Too many Brits love the feel of a Tory jackboot on the back of their neck and think that the horror of food banks and zero\\u2026\", \"category\": \"neutral\"}, {\"polarity\": 0.0, \"subjectivity\": 0.6, \"text\": \"RT There are two different ways to make pizza\", \"category\": \"unhealthy\"}, {\"polarity\": 0.0, \"subjectivity\": 0.0, \"text\": \"RT About 70% of the world\\u2019s spices come from India.\", \"category\": \"healthy\"}, {\"polarity\": 0.0, \"subjectivity\": 0.0, \"text\": \"RT Two mice having a fight at the London subway (Photo: Sam Rowley)\", \"category\": \"neutral\"}, {\"polarity\": -0.6, \"subjectivity\": 0.95, \"text\": \"A boomer asked me today what I\\u2019ve done to get so skinny and I said \\u201cI eat vegan during the week\\u201d and she was like idk what that is and I said I don\\u2019t eat cheese or meat and she was like OH MY not even chicken??\", \"category\": \"unhealthy\"}, {\"polarity\": -0.8, \"subjectivity\": 0.9, \"text\": \"RT kentang instead of sardines, i hate karipap sardines\", \"category\": \"healthy\"}, {\"polarity\": 0.0, \"subjectivity\": 0.0, \"text\": \"RT i just want to wake up without an alarm and no responsibilities for the day and have this for breakfast \\u2026\", \"category\": \"neutral\"}, {\"polarity\": 0.5, \"subjectivity\": 0.4, \"text\": \"Rendon got paid good for him that\\u2019s a fun lineup between otahni trout and him.\", \"category\": \"healthy\"}, {\"polarity\": 0.0, \"subjectivity\": 0.0, \"text\": \"RT harry and james singing watermelon sugar together, THE FLAVOR\", \"category\": \"healthy\"}, {\"polarity\": 0.175, \"subjectivity\": 0.925, \"text\": \"Wow. E;O insurance must be selling like hot cakes today.\", \"category\": \"healthy\"}, {\"polarity\": 0.0, \"subjectivity\": 0.0, \"text\": \"About time the Angels get trout some help\", \"category\": \"healthy\"}, {\"polarity\": 0.0, \"subjectivity\": 0.0, \"text\": \"RT Can somebody bring me food \\ud83e\\udd74\", \"category\": \"neutral\"}, {\"polarity\": 0.8, \"subjectivity\": 0.75, \"text\": \"Can\\u2019t wait to make my basil pesto pasta tonight it\\u2019s gonna be great\", \"category\": \"unhealthy\"}]}};\n",
       "const opt = {};\n",
       "const type = \"vega-lite\";\n",
       "const id = \"75512ad5-21b1-4e0f-b620-0b2def0160ea\";\n",
       "\n",
       "const output_area = this;\n",
       "\n",
       "require([\"nbextensions/jupyter-vega/index\"], function(vega) {\n",
       "  const target = document.createElement(\"div\");\n",
       "  target.id = id;\n",
       "  target.className = \"vega-embed\";\n",
       "\n",
       "  const style = document.createElement(\"style\");\n",
       "  style.textContent = [\n",
       "    \".vega-embed .error p {\",\n",
       "    \"  color: firebrick;\",\n",
       "    \"  font-size: 14px;\",\n",
       "    \"}\",\n",
       "  ].join(\"\\\\n\");\n",
       "\n",
       "  // element is a jQuery wrapped DOM element inside the output area\n",
       "  // see http://ipython.readthedocs.io/en/stable/api/generated/\\\n",
       "  // IPython.display.html#IPython.display.Javascript.__init__\n",
       "  element[0].appendChild(target);\n",
       "  element[0].appendChild(style);\n",
       "\n",
       "  vega.render(\"#\" + id, spec, type, opt, output_area);\n",
       "}, function (err) {\n",
       "  if (err.requireType !== \"scripterror\") {\n",
       "    throw(err);\n",
       "  }\n",
       "});\n"
      ],
      "text/plain": [
       "<vega.vegalite.VegaLite at 0x19e37c11128>"
      ]
     },
     "metadata": {
      "jupyter-vega": "#75512ad5-21b1-4e0f-b620-0b2def0160ea"
     },
     "output_type": "display_data"
    },
    {
     "data": {
      "text/plain": []
     },
     "execution_count": 74,
     "metadata": {},
     "output_type": "execute_result"
    },
    {
     "data": {
      "image/png": "[encoded data removed]"
     },
     "metadata": {
      "jupyter-vega": "#75512ad5-21b1-4e0f-b620-0b2def0160ea"
     },
     "output_type": "display_data"
    }
   ],
   "source": [
    "source = data\n",
    "brush = alt.selection(type='interval')\n",
    "\n",
    "points = alt.Chart(source).mark_point().encode(\n",
    "    x='subjectivity:Q',\n",
    "    y='polarity:Q',\n",
    "    color=alt.condition(brush, 'category:N', alt.value('grey')),\n",
    ").add_selection(brush)\n",
    "\n",
    "bars = alt.Chart(source).mark_bar().encode(\n",
    "    y='category:N',\n",
    "    color='category:N',\n",
    "    x='count(category):Q'\n",
    ").transform_filter(\n",
    "    brush\n",
    ")\n",
    "points & bars"
   ]
  },
  {
   "cell_type": "code",
   "execution_count": 32,
   "metadata": {},
   "outputs": [
    {
     "data": {
      "image/png": "[encoded data removed]",
      "text/plain": [
       "<Figure size 432x432 with 3 Axes>"
      ]
     },
     "metadata": {
      "needs_background": "light"
     },
     "output_type": "display_data"
    }
   ],
   "source": [
    "sns.jointplot(x=\"subjectivity\", y=\"polarity\", data=data, color = \"lightblue\");"
   ]
  },
  {
   "cell_type": "code",
   "execution_count": 33,
   "metadata": {},
   "outputs": [
    {
     "data": {
      "image/png": "[encoded data removed]",
      "text/plain": [
       "<Figure size 432x432 with 3 Axes>"
      ]
     },
     "metadata": {},
     "output_type": "display_data"
    }
   ],
   "source": [
    "with sns.axes_style(\"white\"):\n",
    "    sns.jointplot(x=\"subjectivity\", y=\"polarity\", data=data, kind=\"hex\", color=\"lightcoral\");"
   ]
  },
  {
   "cell_type": "code",
   "execution_count": 35,
   "metadata": {},
   "outputs": [],
   "source": [
    "data['formatted_text'] = [text.split() for text in data['text']]"
   ]
  },
  {
   "cell_type": "code",
   "execution_count": 36,
   "metadata": {},
   "outputs": [],
   "source": [
    "punctuation = list(string.punctuation)\n",
    "stop_words = list(set(nltk.corpus.stopwords.words('english')))\n",
    "insig = stop_words + punctuation"
   ]
  },
  {
   "cell_type": "code",
   "execution_count": 37,
   "metadata": {},
   "outputs": [],
   "source": [
    "data['formatted_text'] = [[word for word in tweet if word not in insig]\n",
    "              for tweet in data['formatted_text']]"
   ]
  },
  {
   "cell_type": "code",
   "execution_count": 38,
   "metadata": {},
   "outputs": [],
   "source": [
    "food_lower = [food.lower() for food in list_food]"
   ]
  },
  {
   "cell_type": "code",
   "execution_count": 39,
   "metadata": {},
   "outputs": [],
   "source": [
    "food_upper = [food.upper() for food in list_food]"
   ]
  },
  {
   "cell_type": "code",
   "execution_count": 40,
   "metadata": {},
   "outputs": [],
   "source": [
    "food_words = [[word for word in tweet if word in food_lower or word in food_upper or word in list_food] for tweet in data['formatted_text']]"
   ]
  },
  {
   "cell_type": "code",
   "execution_count": 41,
   "metadata": {},
   "outputs": [],
   "source": [
    "food_words = [[word.lower() for word in tweet] for tweet in food_words]"
   ]
  },
  {
   "cell_type": "code",
   "execution_count": 42,
   "metadata": {},
   "outputs": [],
   "source": [
    "def count_word_frequencies(words_in_tweet, top=15):\n",
    "    \"\"\"\n",
    "    Given a list of all words for every tweet, count\n",
    "    word frequencies across all tweets.\n",
    "    \n",
    "    By default, this returns the top 15 words, but you \n",
    "    can specify a different value for `top`.\n",
    "    \"\"\"\n",
    "    import itertools, collections\n",
    "\n",
    "    # List of all words across tweets\n",
    "    all_words = list(itertools.chain(*words_in_tweet))\n",
    "\n",
    "    # Create counter\n",
    "    counter = collections.Counter(all_words)\n",
    "    \n",
    "    return pd.DataFrame(counter.most_common(top),\n",
    "                        columns=['words', 'count'])"
   ]
  },
  {
   "cell_type": "code",
   "execution_count": 43,
   "metadata": {},
   "outputs": [],
   "source": [
    "counts_final = count_word_frequencies(food_words)"
   ]
  },
  {
   "cell_type": "code",
   "execution_count": 44,
   "metadata": {},
   "outputs": [],
   "source": [
    "counts_final['words'] = [word.upper() for word in counts_final['words']]"
   ]
  },
  {
   "cell_type": "code",
   "execution_count": 76,
   "metadata": {},
   "outputs": [],
   "source": [
    "counts_final.to_csv('Data\\\\word_frequency.csv', index = False)"
   ]
  },
  {
   "cell_type": "code",
   "execution_count": 78,
   "metadata": {},
   "outputs": [
    {
     "data": {
      "application/javascript": [
       "const spec = {\"config\": {\"view\": {\"width\": 400, \"height\": 300}, \"mark\": {\"tooltip\": null}}, \"data\": {\"name\": \"data-71b99f70c5423b6d47d4609de10d6ecd\"}, \"mark\": {\"type\": \"bar\", \"color\": \"#E74C3C\"}, \"encoding\": {\"x\": {\"type\": \"quantitative\", \"field\": \"count\"}, \"y\": {\"type\": \"nominal\", \"field\": \"words\", \"sort\": {\"field\": \"count\", \"order\": \"descending\"}}}, \"$schema\": \"https://vega.github.io/schema/vega-lite/v3.4.0.json\", \"datasets\": {\"data-71b99f70c5423b6d47d4609de10d6ecd\": [{\"words\": \"JUICE\", \"count\": 33}, {\"words\": \"FOOD\", \"count\": 20}, {\"words\": \"BANANA\", \"count\": 6}, {\"words\": \"PIZZA\", \"count\": 5}, {\"words\": \"TEA\", \"count\": 5}, {\"words\": \"ORANGE\", \"count\": 4}, {\"words\": \"ADA\", \"count\": 4}, {\"words\": \"CHICKEN\", \"count\": 4}, {\"words\": \"CHOCOLATE\", \"count\": 3}, {\"words\": \"FISH\", \"count\": 3}, {\"words\": \"BREAD\", \"count\": 3}, {\"words\": \"DUCK\", \"count\": 2}, {\"words\": \"CHEESE\", \"count\": 2}, {\"words\": \"DINNER\", \"count\": 2}, {\"words\": \"CRAB\", \"count\": 2}]}};\n",
       "const opt = {};\n",
       "const type = \"vega-lite\";\n",
       "const id = \"a7cc5ec9-4547-4dc4-8c51-80435ad14e43\";\n",
       "\n",
       "const output_area = this;\n",
       "\n",
       "require([\"nbextensions/jupyter-vega/index\"], function(vega) {\n",
       "  const target = document.createElement(\"div\");\n",
       "  target.id = id;\n",
       "  target.className = \"vega-embed\";\n",
       "\n",
       "  const style = document.createElement(\"style\");\n",
       "  style.textContent = [\n",
       "    \".vega-embed .error p {\",\n",
       "    \"  color: firebrick;\",\n",
       "    \"  font-size: 14px;\",\n",
       "    \"}\",\n",
       "  ].join(\"\\\\n\");\n",
       "\n",
       "  // element is a jQuery wrapped DOM element inside the output area\n",
       "  // see http://ipython.readthedocs.io/en/stable/api/generated/\\\n",
       "  // IPython.display.html#IPython.display.Javascript.__init__\n",
       "  element[0].appendChild(target);\n",
       "  element[0].appendChild(style);\n",
       "\n",
       "  vega.render(\"#\" + id, spec, type, opt, output_area);\n",
       "}, function (err) {\n",
       "  if (err.requireType !== \"scripterror\") {\n",
       "    throw(err);\n",
       "  }\n",
       "});\n"
      ],
      "text/plain": [
       "<vega.vegalite.VegaLite at 0x19e3b5eca90>"
      ]
     },
     "metadata": {
      "jupyter-vega": "#a7cc5ec9-4547-4dc4-8c51-80435ad14e43"
     },
     "output_type": "display_data"
    },
    {
     "data": {
      "text/plain": []
     },
     "execution_count": 78,
     "metadata": {},
     "output_type": "execute_result"
    },
    {
     "data": {
      "image/png": "[encoded data removed]"
     },
     "metadata": {
      "jupyter-vega": "#a7cc5ec9-4547-4dc4-8c51-80435ad14e43"
     },
     "output_type": "display_data"
    }
   ],
   "source": [
    "alt.Chart(counts_final).mark_bar(color='#E74C3C').encode(\n",
    "    x='count:Q',\n",
    "    y=alt.Y(\n",
    "        'words:N',\n",
    "        sort=alt.EncodingSortField(\n",
    "            field=\"count\", \n",
    "            order=\"descending\"  \n",
    "        )\n",
    "    )\n",
    ")"
   ]
  }
 ],
 "metadata": {
  "kernelspec": {
   "display_name": "Python 3",
   "language": "python",
   "name": "python3"
  },
  "language_info": {
   "codemirror_mode": {
    "name": "ipython",
    "version": 3
   },
   "file_extension": ".py",
   "mimetype": "text/x-python",
   "name": "python",
   "nbconvert_exporter": "python",
   "pygments_lexer": "ipython3",
   "version": "3.6.9"
  }
 },
 "nbformat": 4,
 "nbformat_minor": 2
}
